{
 "metadata": {
  "name": "",
  "signature": "sha256:e0450e87e5062ac38dd245fad739252b17308d518082e74f647dbfe65376db7b"
 },
 "nbformat": 3,
 "nbformat_minor": 0,
 "worksheets": [
  {
   "cells": [
    {
     "cell_type": "code",
     "collapsed": false,
     "input": [
      "import urllib2\n",
      "import requests\n",
      "import pandas as pd\n",
      "from bs4 import BeautifulSoup\n",
      "from time import sleep\n",
      "import re\n",
      "import numpy as np\n"
     ],
     "language": "python",
     "metadata": {},
     "outputs": [],
     "prompt_number": 3
    },
    {
     "cell_type": "code",
     "collapsed": false,
     "input": [
      "def get_score():\n",
      "    try:\n",
      "        return film_soup.find(class_=\"titlePageSprite star-box-giga-star\").get_text().strip()\n",
      "    except AttributeError:\n",
      "        try: \n",
      "            return film_soup.find(class_='rating-ineligible').get_text().strip()\n",
      "        except: \n",
      "            return \"Unable to get Score\"\n",
      "    except:\n",
      "        return \"Unable to get Score\""
     ],
     "language": "python",
     "metadata": {},
     "outputs": [],
     "prompt_number": 2
    },
    {
     "cell_type": "code",
     "collapsed": false,
     "input": [
      "def get_title():\n",
      "    try:\n",
      "        return film_soup.find(itemprop=\"name\").get_text().strip()\n",
      "    except:\n",
      "        return \"Unable to get title\""
     ],
     "language": "python",
     "metadata": {},
     "outputs": [],
     "prompt_number": 19
    },
    {
     "cell_type": "code",
     "collapsed": false,
     "input": [
      "def get_media():\n",
      "    try:\n",
      "        return film_soup.find(class_=\"infobar\").get_text().strip().replace('\\n','')\n",
      "    except:\n",
      "        return \"Unable to get media info\""
     ],
     "language": "python",
     "metadata": {},
     "outputs": [],
     "prompt_number": 124
    },
    {
     "cell_type": "code",
     "collapsed": false,
     "input": [
      "def get_years():\n",
      "    try:\n",
      "        return (film_soup.find(class_='header').find(class_='nobr').get_text()).strip()\n",
      "    except:\n",
      "        return \"Unable to get Years\""
     ],
     "language": "python",
     "metadata": {},
     "outputs": [],
     "prompt_number": 20
    },
    {
     "cell_type": "code",
     "collapsed": false,
     "input": [
      "def get_metacritic():\n",
      "    try:\n",
      "        return film_soup.find('a', title=re.compile('.*Meta')).get_text().strip()\n",
      "    except:\n",
      "        return \"No Metacritic\""
     ],
     "language": "python",
     "metadata": {},
     "outputs": [],
     "prompt_number": 21
    },
    {
     "cell_type": "code",
     "collapsed": false,
     "input": [
      "def get_awards():\n",
      "    try:\n",
      "        return film_soup.find(id='titleAwardsRanks').get_text().strip()\n",
      "    except:\n",
      "        return \"No Awards\""
     ],
     "language": "python",
     "metadata": {},
     "outputs": [],
     "prompt_number": 22
    },
    {
     "cell_type": "code",
     "collapsed": false,
     "input": [
      "def major_role_flag(actor_name):\n",
      "    try:\n",
      "        for actor in film_soup.find(class_='cast_list').find_all(itemprop='name', class_='itemprop'):\n",
      "            if actor.get_text() == actor_name:\n",
      "                return \"Major Role\"\n",
      "                break\n",
      "        return \"Not Major Role\"\n",
      "    except:\n",
      "        return \"Unable to get actors\""
     ],
     "language": "python",
     "metadata": {},
     "outputs": [],
     "prompt_number": 55
    },
    {
     "cell_type": "code",
     "collapsed": false,
     "input": [
      "LOST_IMDB = 'http://www.imdb.com/title/tt0411008/'"
     ],
     "language": "python",
     "metadata": {},
     "outputs": [],
     "prompt_number": 8
    },
    {
     "cell_type": "code",
     "collapsed": false,
     "input": [
      "r = urllib2.urlopen(LOST_IMDB)\n",
      "content = r.read()\n",
      "actor_soup = BeautifulSoup(content, \"lxml\")"
     ],
     "language": "python",
     "metadata": {},
     "outputs": [],
     "prompt_number": 60
    },
    {
     "cell_type": "code",
     "collapsed": false,
     "input": [
      "actor_urls = []\n",
      "for actor in actor_soup.find_all(itemprop=\"actor\"):\n",
      "    name = actor.get_text().strip()\n",
      "    url = 'http://www.imdb.com' + actor.a['href']\n",
      "    actor_urls.append((name, url))"
     ],
     "language": "python",
     "metadata": {},
     "outputs": [],
     "prompt_number": 73
    },
    {
     "cell_type": "code",
     "collapsed": false,
     "input": [
      "films_df = pd.DataFrame()\n",
      "for (actor, url) in actor_urls:\n",
      "    print \"----- Starting on:\", actor, \"-----\"\n",
      "    r = urllib2.urlopen(url).read()\n",
      "    acted_soup = BeautifulSoup(r, \"lxml\")\n",
      "    for film in acted_soup.find(class_='filmo-category-section').find_all('b'):\n",
      "        film_dict = {}\n",
      "        film_url = 'http://www.imdb.com' + film.a['href']\n",
      "        r = urllib2.urlopen(film_url)\n",
      "        film_soup = BeautifulSoup(r, 'lxml')\n",
      "        film_dict['actor'] = actor\n",
      "        film_dict['title'] = get_title() \n",
      "        film_dict['score'] = get_score() \n",
      "        film_dict['years'] = get_years()\n",
      "        film_dict['metacritic'] = get_metacritic() \n",
      "        film_dict['awards'] = get_awards()\n",
      "        film_dict['media_info'] = get_media()\n",
      "        film_dict['major'] = major_role_flag(actor)\n",
      "        films_df = films_df.append(film_dict, ignore_index=1)\n",
      "        print film_dict['title'], film_url\n",
      "        sleep(1.5)\n",
      "    #film_urls.append('http://www.imdb.com' + film.a['href'])"
     ],
     "language": "python",
     "metadata": {},
     "outputs": [
      {
       "output_type": "stream",
       "stream": "stdout",
       "text": [
        "----- Starting on: Jorge Garcia -----\n",
        "Running Out of Time"
       ]
      },
      {
       "output_type": "stream",
       "stream": "stdout",
       "text": [
        " http://www.imdb.com/title/tt3591496/?ref_=nm_flmg_act_1\n",
        "When We Were Pirates"
       ]
      },
      {
       "output_type": "stream",
       "stream": "stdout",
       "text": [
        " http://www.imdb.com/title/tt1253872/?ref_=nm_flmg_act_2\n",
        "Rock Dog"
       ]
      },
      {
       "output_type": "stream",
       "stream": "stdout",
       "text": [
        " http://www.imdb.com/title/tt2822672/?ref_=nm_flmg_act_3\n",
        "Get a Job"
       ]
      },
      {
       "output_type": "stream",
       "stream": "stdout",
       "text": [
        " http://www.imdb.com/title/tt1468846/?ref_=nm_flmg_act_4\n",
        "Spade"
       ]
      },
      {
       "output_type": "stream",
       "stream": "stdout",
       "text": [
        " http://www.imdb.com/title/tt2005350/?ref_=nm_flmg_act_5\n",
        "Hawaii Five-0"
       ]
      },
      {
       "output_type": "stream",
       "stream": "stdout",
       "text": [
        " http://www.imdb.com/title/tt1600194/?ref_=nm_flmg_act_6\n",
        "The Wedding Ringer"
       ]
      },
      {
       "output_type": "stream",
       "stream": "stdout",
       "text": [
        " http://www.imdb.com/title/tt0884732/?ref_=nm_flmg_act_7\n",
        "The Lummox"
       ]
      },
      {
       "output_type": "stream",
       "stream": "stdout",
       "text": [
        " http://www.imdb.com/title/tt3482922/?ref_=nm_flmg_act_8\n",
        "Food Truck"
       ]
      },
      {
       "output_type": "stream",
       "stream": "stdout",
       "text": [
        " http://www.imdb.com/title/tt3745428/?ref_=nm_flmg_act_9\n",
        "How I Met Your Mother"
       ]
      },
      {
       "output_type": "stream",
       "stream": "stdout",
       "text": [
        " http://www.imdb.com/title/tt0460649/?ref_=nm_flmg_act_10\n",
        "Cooties"
       ]
      },
      {
       "output_type": "stream",
       "stream": "stdout",
       "text": [
        " http://www.imdb.com/title/tt2490326/?ref_=nm_flmg_act_11\n",
        "Maggie"
       ]
      },
      {
       "output_type": "stream",
       "stream": "stdout",
       "text": [
        " http://www.imdb.com/title/tt2778906/?ref_=nm_flmg_act_12\n",
        "Once Upon a Time"
       ]
      },
      {
       "output_type": "stream",
       "stream": "stdout",
       "text": [
        " http://www.imdb.com/title/tt1843230/?ref_=nm_flmg_act_13\n",
        "iSteve"
       ]
      },
      {
       "output_type": "stream",
       "stream": "stdout",
       "text": [
        " http://www.imdb.com/title/tt2782834/?ref_=nm_flmg_act_14\n",
        "Californication"
       ]
      },
      {
       "output_type": "stream",
       "stream": "stdout",
       "text": [
        " http://www.imdb.com/title/tt0904208/?ref_=nm_flmg_act_15\n",
        "The Ordained"
       ]
      },
      {
       "output_type": "stream",
       "stream": "stdout",
       "text": [
        " http://www.imdb.com/title/tt2706482/?ref_=nm_flmg_act_16\n",
        "Alcatraz"
       ]
      },
      {
       "output_type": "stream",
       "stream": "stdout",
       "text": [
        " http://www.imdb.com/title/tt1728102/?ref_=nm_flmg_act_17\n",
        "Maktub"
       ]
      },
      {
       "output_type": "stream",
       "stream": "stdout",
       "text": [
        " http://www.imdb.com/title/tt1779826/?ref_=nm_flmg_act_18\n",
        "Mr. Sunshine"
       ]
      },
      {
       "output_type": "stream",
       "stream": "stdout",
       "text": [
        " http://www.imdb.com/title/tt1583638/?ref_=nm_flmg_act_19\n",
        "Fringe"
       ]
      },
      {
       "output_type": "stream",
       "stream": "stdout",
       "text": [
        " http://www.imdb.com/title/tt1119644/?ref_=nm_flmg_act_20\n",
        "Lost"
       ]
      },
      {
       "output_type": "stream",
       "stream": "stdout",
       "text": [
        " http://www.imdb.com/title/tt0411008/?ref_=nm_flmg_act_21\n",
        "Jimmy Kimmel Live!"
       ]
      },
      {
       "output_type": "stream",
       "stream": "stdout",
       "text": [
        " http://www.imdb.com/title/tt0320037/?ref_=nm_flmg_act_22\n",
        "Lost: Missing Pieces"
       ]
      },
      {
       "output_type": "stream",
       "stream": "stdout",
       "text": [
        " http://www.imdb.com/title/tt1150692/?ref_=nm_flmg_act_23\n",
        "Sweetzer"
       ]
      },
      {
       "output_type": "stream",
       "stream": "stdout",
       "text": [
        " http://www.imdb.com/title/tt0451223/?ref_=nm_flmg_act_24\n",
        "Deck the Halls"
       ]
      },
      {
       "output_type": "stream",
       "stream": "stdout",
       "text": [
        " http://www.imdb.com/title/tt0790604/?ref_=nm_flmg_act_25\n",
        "Hitman: Blood Money"
       ]
      },
      {
       "output_type": "stream",
       "stream": "stdout",
       "text": [
        " http://www.imdb.com/title/tt0433390/?ref_=nm_flmg_act_26\n",
        "Little Athens"
       ]
      },
      {
       "output_type": "stream",
       "stream": "stdout",
       "text": [
        " http://www.imdb.com/title/tt0417907/?ref_=nm_flmg_act_27\n",
        "The Good Humor Man"
       ]
      },
      {
       "output_type": "stream",
       "stream": "stdout",
       "text": [
        " http://www.imdb.com/title/tt0382053/?ref_=nm_flmg_act_28\n",
        "Higglytown Heroes"
       ]
      },
      {
       "output_type": "stream",
       "stream": "stdout",
       "text": [
        " http://www.imdb.com/title/tt0406419/?ref_=nm_flmg_act_29\n",
        "Our Time Is Up"
       ]
      },
      {
       "output_type": "stream",
       "stream": "stdout",
       "text": [
        " http://www.imdb.com/title/tt0427617/?ref_=nm_flmg_act_30\n",
        "Happily Even After"
       ]
      },
      {
       "output_type": "stream",
       "stream": "stdout",
       "text": [
        " http://www.imdb.com/title/tt0340147/?ref_=nm_flmg_act_31\n",
        "Curb Your Enthusiasm"
       ]
      },
      {
       "output_type": "stream",
       "stream": "stdout",
       "text": [
        " http://www.imdb.com/title/tt0264235/?ref_=nm_flmg_act_32\n",
        "Tales from the Crapper"
       ]
      },
      {
       "output_type": "stream",
       "stream": "stdout",
       "text": [
        " http://www.imdb.com/title/tt0338479/?ref_=nm_flmg_act_33\n",
        "Becker"
       ]
      },
      {
       "output_type": "stream",
       "stream": "stdout",
       "text": [
        " http://www.imdb.com/title/tt0174378/?ref_=nm_flmg_act_34\n",
        "Rock Me, Baby"
       ]
      },
      {
       "output_type": "stream",
       "stream": "stdout",
       "text": [
        " http://www.imdb.com/title/tt0366082/?ref_=nm_flmg_act_35\n",
        "Columbo"
       ]
      },
      {
       "output_type": "stream",
       "stream": "stdout",
       "text": [
        " http://www.imdb.com/title/tt1466074/?ref_=nm_flmg_act_36\n",
        "Old School"
       ]
      },
      {
       "output_type": "stream",
       "stream": "stdout",
       "text": [
        " http://www.imdb.com/title/tt0891550/?ref_=nm_flmg_act_37\n",
        "Big Shot: Confessions of a Campus Bookie"
       ]
      },
      {
       "output_type": "stream",
       "stream": "stdout",
       "text": [
        " http://www.imdb.com/title/tt0299535/?ref_=nm_flmg_act_38\n",
        "The Slow and the Cautious"
       ]
      },
      {
       "output_type": "stream",
       "stream": "stdout",
       "text": [
        " http://www.imdb.com/title/tt0310160/?ref_=nm_flmg_act_39\n",
        "Spin City"
       ]
      },
      {
       "output_type": "stream",
       "stream": "stdout",
       "text": [
        " http://www.imdb.com/title/tt0115369/?ref_=nm_flmg_act_40\n",
        "Tomorrow by Midnight"
       ]
      },
      {
       "output_type": "stream",
       "stream": "stdout",
       "text": [
        " http://www.imdb.com/title/tt0210362/?ref_=nm_flmg_act_41\n",
        "King of the Open Mics"
       ]
      },
      {
       "output_type": "stream",
       "stream": "stdout",
       "text": [
        " http://www.imdb.com/title/tt0229513/?ref_=nm_flmg_act_42\n",
        "The Wild Thornberrys"
       ]
      },
      {
       "output_type": "stream",
       "stream": "stdout",
       "text": [
        " http://www.imdb.com/title/tt0167743/?ref_=nm_flmg_act_43\n",
        "Raven's Ridge"
       ]
      },
      {
       "output_type": "stream",
       "stream": "stdout",
       "text": [
        " http://www.imdb.com/title/tt0119985/?ref_=nm_flmg_act_44\n",
        "----- Starting on:"
       ]
      },
      {
       "output_type": "stream",
       "stream": "stdout",
       "text": [
        " Naveen Andrews -----\n",
        "Sense8"
       ]
      },
      {
       "output_type": "stream",
       "stream": "stdout",
       "text": [
        " http://www.imdb.com/title/tt2431438/?ref_=nm_flmg_act_1\n",
        "Far Cry 4"
       ]
      },
      {
       "output_type": "stream",
       "stream": "stdout",
       "text": [
        " http://www.imdb.com/title/tt3742988/?ref_=nm_flmg_act_2\n",
        "Once Upon a Time in Wonderland"
       ]
      },
      {
       "output_type": "stream",
       "stream": "stdout",
       "text": [
        " http://www.imdb.com/title/tt2802008/?ref_=nm_flmg_act_3\n",
        "Diana"
       ]
      },
      {
       "output_type": "stream",
       "stream": "stdout",
       "text": [
        " http://www.imdb.com/title/tt1758595/?ref_=nm_flmg_act_4\n",
        "Reckless"
       ]
      },
      {
       "output_type": "stream",
       "stream": "stdout",
       "text": [
        " http://www.imdb.com/title/tt2712502/?ref_=nm_flmg_act_5\n",
        "Sinbad"
       ]
      },
      {
       "output_type": "stream",
       "stream": "stdout",
       "text": [
        " http://www.imdb.com/title/tt1979918/?ref_=nm_flmg_act_6\n",
        "Lost"
       ]
      },
      {
       "output_type": "stream",
       "stream": "stdout",
       "text": [
        " http://www.imdb.com/title/tt0411008/?ref_=nm_flmg_act_7\n",
        "Law & Order: Special Victims Unit"
       ]
      },
      {
       "output_type": "stream",
       "stream": "stdout",
       "text": [
        " http://www.imdb.com/title/tt0203259/?ref_=nm_flmg_act_8\n",
        "Animals"
       ]
      },
      {
       "output_type": "stream",
       "stream": "stdout",
       "text": [
        " http://www.imdb.com/title/tt1056036/?ref_=nm_flmg_act_9\n",
        "The Brave One"
       ]
      },
      {
       "output_type": "stream",
       "stream": "stdout",
       "text": [
        " http://www.imdb.com/title/tt0476964/?ref_=nm_flmg_act_10\n",
        "Planet Terror"
       ]
      },
      {
       "output_type": "stream",
       "stream": "stdout",
       "text": [
        " http://www.imdb.com/title/tt1077258/?ref_=nm_flmg_act_11\n",
        "Grindhouse"
       ]
      },
      {
       "output_type": "stream",
       "stream": "stdout",
       "text": [
        " http://www.imdb.com/title/tt0462322/?ref_=nm_flmg_act_12\n",
        "Provoked: A True Story"
       ]
      },
      {
       "output_type": "stream",
       "stream": "stdout",
       "text": [
        " http://www.imdb.com/title/tt0458072/?ref_=nm_flmg_act_13\n",
        "The Ten Commandments"
       ]
      },
      {
       "output_type": "stream",
       "stream": "stdout",
       "text": [
        " http://www.imdb.com/title/tt0443412/?ref_=nm_flmg_act_14\n",
        "Bride & Prejudice"
       ]
      },
      {
       "output_type": "stream",
       "stream": "stdout",
       "text": [
        " http://www.imdb.com/title/tt0361411/?ref_=nm_flmg_act_15\n",
        "Easy"
       ]
      },
      {
       "output_type": "stream",
       "stream": "stdout",
       "text": [
        " http://www.imdb.com/title/tt0379270/?ref_=nm_flmg_act_16\n",
        "Future Tense"
       ]
      },
      {
       "output_type": "stream",
       "stream": "stdout",
       "text": [
        " http://www.imdb.com/title/tt0777217/?ref_=nm_flmg_act_17\n",
        "Rollerball"
       ]
      },
      {
       "output_type": "stream",
       "stream": "stdout",
       "text": [
        " http://www.imdb.com/title/tt0246894/?ref_=nm_flmg_act_18\n",
        "The Beast"
       ]
      },
      {
       "output_type": "stream",
       "stream": "stdout",
       "text": [
        " http://www.imdb.com/title/tt0268175/?ref_=nm_flmg_act_19\n",
        "The Chippendales Murder"
       ]
      },
      {
       "output_type": "stream",
       "stream": "stdout",
       "text": [
        " http://www.imdb.com/title/tt0256690/?ref_=nm_flmg_act_20\n",
        "A Question of Faith"
       ]
      },
      {
       "output_type": "stream",
       "stream": "stdout",
       "text": [
        " http://www.imdb.com/title/tt0205778/?ref_=nm_flmg_act_21\n",
        "Drowning on Dry Land"
       ]
      },
      {
       "output_type": "stream",
       "stream": "stdout",
       "text": [
        " http://www.imdb.com/title/tt0187820/?ref_=nm_flmg_act_22\n",
        "Mighty Joe Young"
       ]
      },
      {
       "output_type": "stream",
       "stream": "stdout",
       "text": [
        " http://www.imdb.com/title/tt0120751/?ref_=nm_flmg_act_23\n",
        "Bombay Boys"
       ]
      },
      {
       "output_type": "stream",
       "stream": "stdout",
       "text": [
        " http://www.imdb.com/title/tt0168529/?ref_=nm_flmg_act_24\n",
        "My Own Country"
       ]
      },
      {
       "output_type": "stream",
       "stream": "stdout",
       "text": [
        " http://www.imdb.com/title/tt0164110/?ref_=nm_flmg_act_25\n",
        "True Love and Chaos"
       ]
      },
      {
       "output_type": "stream",
       "stream": "stdout",
       "text": [
        " http://www.imdb.com/title/tt0117975/?ref_=nm_flmg_act_26\n",
        "The English Patient"
       ]
      },
      {
       "output_type": "stream",
       "stream": "stdout",
       "text": [
        " http://www.imdb.com/title/tt0116209/?ref_=nm_flmg_act_27\n",
        "Kama Sutra: A Tale of Love"
       ]
      },
      {
       "output_type": "stream",
       "stream": "stdout",
       "text": [
        " http://www.imdb.com/title/tt0116743/?ref_=nm_flmg_act_28\n",
        "The Peacock Spring"
       ]
      },
      {
       "output_type": "stream",
       "stream": "stdout",
       "text": [
        " http://www.imdb.com/title/tt0114106/?ref_=nm_flmg_act_29\n",
        "The Buddha of Suburbia"
       ]
      },
      {
       "output_type": "stream",
       "stream": "stdout",
       "text": [
        " http://www.imdb.com/title/tt0105963/?ref_=nm_flmg_act_30\n",
        "Double Vision"
       ]
      },
      {
       "output_type": "stream",
       "stream": "stdout",
       "text": [
        " http://www.imdb.com/title/tt0104136/?ref_=nm_flmg_act_31\n",
        "Wild West"
       ]
      },
      {
       "output_type": "stream",
       "stream": "stdout",
       "text": [
        " http://www.imdb.com/title/tt0105820/?ref_=nm_flmg_act_32\n",
        "London Kills Me"
       ]
      },
      {
       "output_type": "stream",
       "stream": "stdout",
       "text": [
        " http://www.imdb.com/title/tt0102328/?ref_=nm_flmg_act_33\n",
        "J.A.E."
       ]
      },
      {
       "output_type": "stream",
       "stream": "stdout",
       "text": [
        " http://www.imdb.com/title/tt1951230/?ref_=nm_flmg_act_34\n",
        "----- Starting on:"
       ]
      },
      {
       "output_type": "stream",
       "stream": "stdout",
       "text": [
        " Matthew Fox -----\n",
        "Bone Tomahawk"
       ]
      },
      {
       "output_type": "stream",
       "stream": "stdout",
       "text": [
        " http://www.imdb.com/title/tt2494362/?ref_=nm_flmg_act_1\n",
        "Extinction"
       ]
      },
      {
       "output_type": "stream",
       "stream": "stdout",
       "text": [
        " http://www.imdb.com/title/tt3467412/?ref_=nm_flmg_act_2\n",
        "World War Z"
       ]
      },
      {
       "output_type": "stream",
       "stream": "stdout",
       "text": [
        " http://www.imdb.com/title/tt0816711/?ref_=nm_flmg_act_3\n",
        "Alex Cross"
       ]
      },
      {
       "output_type": "stream",
       "stream": "stdout",
       "text": [
        " http://www.imdb.com/title/tt1712170/?ref_=nm_flmg_act_4\n",
        "Emperor"
       ]
      },
      {
       "output_type": "stream",
       "stream": "stdout",
       "text": [
        " http://www.imdb.com/title/tt2103264/?ref_=nm_flmg_act_5\n",
        "Lost"
       ]
      },
      {
       "output_type": "stream",
       "stream": "stdout",
       "text": [
        " http://www.imdb.com/title/tt0411008/?ref_=nm_flmg_act_6\n",
        "Speed Racer"
       ]
      },
      {
       "output_type": "stream",
       "stream": "stdout",
       "text": [
        " http://www.imdb.com/title/tt1152717/?ref_=nm_flmg_act_7\n",
        "Speed Racer"
       ]
      },
      {
       "output_type": "stream",
       "stream": "stdout",
       "text": [
        " http://www.imdb.com/title/tt0811080/?ref_=nm_flmg_act_8\n",
        "Vantage Point"
       ]
      },
      {
       "output_type": "stream",
       "stream": "stdout",
       "text": [
        " http://www.imdb.com/title/tt0443274/?ref_=nm_flmg_act_9\n",
        "Lost: Missing Pieces"
       ]
      },
      {
       "output_type": "stream",
       "stream": "stdout",
       "text": [
        " http://www.imdb.com/title/tt1150692/?ref_=nm_flmg_act_10\n",
        "We Are Marshall"
       ]
      },
      {
       "output_type": "stream",
       "stream": "stdout",
       "text": [
        " http://www.imdb.com/title/tt0758794/?ref_=nm_flmg_act_11\n",
        "Saturday Night Live"
       ]
      },
      {
       "output_type": "stream",
       "stream": "stdout",
       "text": [
        " http://www.imdb.com/title/tt0072562/?ref_=nm_flmg_act_12\n",
        "Smokin' Aces"
       ]
      },
      {
       "output_type": "stream",
       "stream": "stdout",
       "text": [
        " http://www.imdb.com/title/tt0475394/?ref_=nm_flmg_act_13\n",
        "Connecting Flight"
       ]
      },
      {
       "output_type": "stream",
       "stream": "stdout",
       "text": [
        " http://www.imdb.com/title/tt3644832/?ref_=nm_flmg_act_14\n",
        "A Token for Your Thoughts"
       ]
      },
      {
       "output_type": "stream",
       "stream": "stdout",
       "text": [
        " http://www.imdb.com/title/tt0368352/?ref_=nm_flmg_act_15\n",
        "Haunted"
       ]
      },
      {
       "output_type": "stream",
       "stream": "stdout",
       "text": [
        " http://www.imdb.com/title/tt0320028/?ref_=nm_flmg_act_16\n",
        "Party of Five"
       ]
      },
      {
       "output_type": "stream",
       "stream": "stdout",
       "text": [
        " http://www.imdb.com/title/tt0108894/?ref_=nm_flmg_act_17\n",
        "Behind the Mask"
       ]
      },
      {
       "output_type": "stream",
       "stream": "stdout",
       "text": [
        " http://www.imdb.com/title/tt0177534/?ref_=nm_flmg_act_18\n",
        "MADtv"
       ]
      },
      {
       "output_type": "stream",
       "stream": "stdout",
       "text": [
        " http://www.imdb.com/title/tt0112056/?ref_=nm_flmg_act_19\n",
        "CBS Schoolbreak Special"
       ]
      },
      {
       "output_type": "stream",
       "stream": "stdout",
       "text": [
        " http://www.imdb.com/title/tt0985040/?ref_=nm_flmg_act_20\n",
        "My Boyfriend's Back"
       ]
      },
      {
       "output_type": "stream",
       "stream": "stdout",
       "text": [
        " http://www.imdb.com/title/tt0107626/?ref_=nm_flmg_act_21\n",
        "Freshman Dorm"
       ]
      },
      {
       "output_type": "stream",
       "stream": "stdout",
       "text": [
        " http://www.imdb.com/title/tt0103419/?ref_=nm_flmg_act_22\n",
        "Wings"
       ]
      },
      {
       "output_type": "stream",
       "stream": "stdout",
       "text": [
        " http://www.imdb.com/title/tt0098948/?ref_=nm_flmg_act_23\n",
        "----- Starting on:"
       ]
      },
      {
       "output_type": "stream",
       "stream": "stdout",
       "text": [
        " Josh Holloway -----\n",
        "Colony"
       ]
      },
      {
       "output_type": "stream",
       "stream": "stdout",
       "text": [
        " http://www.imdb.com/title/tt4209256/?ref_=nm_flmg_act_1\n",
        "Intelligence"
       ]
      },
      {
       "output_type": "stream",
       "stream": "stdout",
       "text": [
        " http://www.imdb.com/title/tt2693776/?ref_=nm_flmg_act_2\n",
        "Sabotage"
       ]
      },
      {
       "output_type": "stream",
       "stream": "stdout",
       "text": [
        " http://www.imdb.com/title/tt1742334/?ref_=nm_flmg_act_3\n",
        "Battle of the Year"
       ]
      },
      {
       "output_type": "stream",
       "stream": "stdout",
       "text": [
        " http://www.imdb.com/title/tt1532958/?ref_=nm_flmg_act_4\n",
        "Paranoia"
       ]
      },
      {
       "output_type": "stream",
       "stream": "stdout",
       "text": [
        " http://www.imdb.com/title/tt1413495/?ref_=nm_flmg_act_5\n",
        "Yo Gabba Gabba!"
       ]
      },
      {
       "output_type": "stream",
       "stream": "stdout",
       "text": [
        " http://www.imdb.com/title/tt0877512/?ref_=nm_flmg_act_6\n",
        "Mission: Impossible - Ghost Protocol"
       ]
      },
      {
       "output_type": "stream",
       "stream": "stdout",
       "text": [
        " http://www.imdb.com/title/tt1229238/?ref_=nm_flmg_act_7\n",
        "Five"
       ]
      },
      {
       "output_type": "stream",
       "stream": "stdout",
       "text": [
        " http://www.imdb.com/title/tt1877740/?ref_=nm_flmg_act_8\n",
        "Community"
       ]
      },
      {
       "output_type": "stream",
       "stream": "stdout",
       "text": [
        " http://www.imdb.com/title/tt1439629/?ref_=nm_flmg_act_9\n",
        "Lost"
       ]
      },
      {
       "output_type": "stream",
       "stream": "stdout",
       "text": [
        " http://www.imdb.com/title/tt0411008/?ref_=nm_flmg_act_10\n",
        "Stay Cool"
       ]
      },
      {
       "output_type": "stream",
       "stream": "stdout",
       "text": [
        " http://www.imdb.com/title/tt1235807/?ref_=nm_flmg_act_11\n",
        "Whisper"
       ]
      },
      {
       "output_type": "stream",
       "stream": "stdout",
       "text": [
        " http://www.imdb.com/title/tt0435528/?ref_=nm_flmg_act_12\n",
        "Command & Conquer 3: Tiberium Wars"
       ]
      },
      {
       "output_type": "stream",
       "stream": "stdout",
       "text": [
        " http://www.imdb.com/title/tt0848263/?ref_=nm_flmg_act_13\n",
        "Good Girls Don't..."
       ]
      },
      {
       "output_type": "stream",
       "stream": "stdout",
       "text": [
        " http://www.imdb.com/title/tt0413572/?ref_=nm_flmg_act_14\n",
        "NCIS"
       ]
      },
      {
       "output_type": "stream",
       "stream": "stdout",
       "text": [
        " http://www.imdb.com/title/tt0364845/?ref_=nm_flmg_act_15\n",
        "The Lyon's Den"
       ]
      },
      {
       "output_type": "stream",
       "stream": "stdout",
       "text": [
        " http://www.imdb.com/title/tt0380124/?ref_=nm_flmg_act_16\n",
        "CSI: Crime Scene Investigation"
       ]
      },
      {
       "output_type": "stream",
       "stream": "stdout",
       "text": [
        " http://www.imdb.com/title/tt0247082/?ref_=nm_flmg_act_17\n",
        "Dr. Benny"
       ]
      },
      {
       "output_type": "stream",
       "stream": "stdout",
       "text": [
        " http://www.imdb.com/title/tt0236172/?ref_=nm_flmg_act_18\n",
        "Sabretooth"
       ]
      },
      {
       "output_type": "stream",
       "stream": "stdout",
       "text": [
        " http://www.imdb.com/title/tt0284445/?ref_=nm_flmg_act_19\n",
        "Against All Evidence"
       ]
      },
      {
       "output_type": "stream",
       "stream": "stdout",
       "text": [
        " http://www.imdb.com/title/tt0305856/?ref_=nm_flmg_act_20\n",
        "Mi amigo"
       ]
      },
      {
       "output_type": "stream",
       "stream": "stdout",
       "text": [
        " http://www.imdb.com/title/tt0274661/?ref_=nm_flmg_act_21\n",
        "Moving August"
       ]
      },
      {
       "output_type": "stream",
       "stream": "stdout",
       "text": [
        " http://www.imdb.com/title/tt0212360/?ref_=nm_flmg_act_22\n",
        "Walker, Texas Ranger"
       ]
      },
      {
       "output_type": "stream",
       "stream": "stdout",
       "text": [
        " http://www.imdb.com/title/tt0106168/?ref_=nm_flmg_act_23\n",
        "Cold Heart"
       ]
      },
      {
       "output_type": "stream",
       "stream": "stdout",
       "text": [
        " http://www.imdb.com/title/tt0276868/?ref_=nm_flmg_act_24\n",
        "Angel"
       ]
      },
      {
       "output_type": "stream",
       "stream": "stdout",
       "text": [
        " http://www.imdb.com/title/tt0162065/?ref_=nm_flmg_act_25\n",
        "Aerosmith: Big Ones You Can Look at"
       ]
      },
      {
       "output_type": "stream",
       "stream": "stdout",
       "text": [
        " http://www.imdb.com/title/tt0109047/?ref_=nm_flmg_act_26\n",
        "----- Starting on:"
       ]
      },
      {
       "output_type": "stream",
       "stream": "stdout",
       "text": [
        " Daniel Dae Kim -----\n",
        "Saints Row: Gat Out of Hell"
       ]
      },
      {
       "output_type": "stream",
       "stream": "stdout",
       "text": [
        " http://www.imdb.com/title/tt4009734/?ref_=nm_flmg_act_1\n",
        "Ktown Cowboys"
       ]
      },
      {
       "output_type": "stream",
       "stream": "stdout",
       "text": [
        " http://www.imdb.com/title/tt3414960/?ref_=nm_flmg_act_2\n",
        "Insurgent"
       ]
      },
      {
       "output_type": "stream",
       "stream": "stdout",
       "text": [
        " http://www.imdb.com/title/tt2908446/?ref_=nm_flmg_act_3\n",
        "Hawaii Five-0"
       ]
      },
      {
       "output_type": "stream",
       "stream": "stdout",
       "text": [
        " http://www.imdb.com/title/tt1600194/?ref_=nm_flmg_act_4\n",
        "The Legend of Korra"
       ]
      },
      {
       "output_type": "stream",
       "stream": "stdout",
       "text": [
        " http://www.imdb.com/title/tt1695360/?ref_=nm_flmg_act_5\n",
        "The Tale of The Princess Kaguya"
       ]
      },
      {
       "output_type": "stream",
       "stream": "stdout",
       "text": [
        " http://www.imdb.com/title/tt2576852/?ref_=nm_flmg_act_6\n",
        "Saints Row IV"
       ]
      },
      {
       "output_type": "stream",
       "stream": "stdout",
       "text": [
        " http://www.imdb.com/title/tt2971572/?ref_=nm_flmg_act_7\n",
        "NCIS: Los Angeles"
       ]
      },
      {
       "output_type": "stream",
       "stream": "stdout",
       "text": [
        " http://www.imdb.com/title/tt1378167/?ref_=nm_flmg_act_8\n",
        "Saints Row: The Third"
       ]
      },
      {
       "output_type": "stream",
       "stream": "stdout",
       "text": [
        " http://www.imdb.com/title/tt2124034/?ref_=nm_flmg_act_9\n",
        "Arena"
       ]
      },
      {
       "output_type": "stream",
       "stream": "stdout",
       "text": [
        " http://www.imdb.com/title/tt1117581/?ref_=nm_flmg_act_10\n",
        "G.I. Joe: Renegades"
       ]
      },
      {
       "output_type": "stream",
       "stream": "stdout",
       "text": [
        " http://www.imdb.com/title/tt1705038/?ref_=nm_flmg_act_11\n",
        "Lost"
       ]
      },
      {
       "output_type": "stream",
       "stream": "stdout",
       "text": [
        " http://www.imdb.com/title/tt0411008/?ref_=nm_flmg_act_12\n",
        "Saints Row 2"
       ]
      },
      {
       "output_type": "stream",
       "stream": "stdout",
       "text": [
        " http://www.imdb.com/title/tt1024918/?ref_=nm_flmg_act_13\n",
        "Lost: Missing Pieces"
       ]
      },
      {
       "output_type": "stream",
       "stream": "stdout",
       "text": [
        " http://www.imdb.com/title/tt1150692/?ref_=nm_flmg_act_14\n",
        "The Onion Movie"
       ]
      },
      {
       "output_type": "stream",
       "stream": "stdout",
       "text": [
        " http://www.imdb.com/title/tt0392878/?ref_=nm_flmg_act_15\n",
        "The Andromeda Strain"
       ]
      },
      {
       "output_type": "stream",
       "stream": "stdout",
       "text": [
        " http://www.imdb.com/title/tt0424600/?ref_=nm_flmg_act_16\n",
        "Avatar: The Last Airbender - The Burning Earth"
       ]
      },
      {
       "output_type": "stream",
       "stream": "stdout",
       "text": [
        " http://www.imdb.com/title/tt1459461/?ref_=nm_flmg_act_17\n",
        "Scarface: The World Is Yours"
       ]
      },
      {
       "output_type": "stream",
       "stream": "stdout",
       "text": [
        " http://www.imdb.com/title/tt0451192/?ref_=nm_flmg_act_18\n",
        "Saints Row"
       ]
      },
      {
       "output_type": "stream",
       "stream": "stdout",
       "text": [
        " http://www.imdb.com/title/tt0477848/?ref_=nm_flmg_act_19\n",
        "Justice League"
       ]
      },
      {
       "output_type": "stream",
       "stream": "stdout",
       "text": [
        " http://www.imdb.com/title/tt0275137/?ref_=nm_flmg_act_20\n",
        "Avatar: The Last Airbender"
       ]
      },
      {
       "output_type": "stream",
       "stream": "stdout",
       "text": [
        " http://www.imdb.com/title/tt0417299/?ref_=nm_flmg_act_21\n",
        "24: The Game"
       ]
      },
      {
       "output_type": "stream",
       "stream": "stdout",
       "text": [
        " http://www.imdb.com/title/tt0454763/?ref_=nm_flmg_act_22\n",
        "The Cave"
       ]
      },
      {
       "output_type": "stream",
       "stream": "stdout",
       "text": [
        " http://www.imdb.com/title/tt0402901/?ref_=nm_flmg_act_23\n",
        "Crash"
       ]
      },
      {
       "output_type": "stream",
       "stream": "stdout",
       "text": [
        " http://www.imdb.com/title/tt0375679/?ref_=nm_flmg_act_24\n",
        "Spider-Man 2"
       ]
      },
      {
       "output_type": "stream",
       "stream": "stdout",
       "text": [
        " http://www.imdb.com/title/tt0316654/?ref_=nm_flmg_act_25\n",
        "The Shield"
       ]
      },
      {
       "output_type": "stream",
       "stream": "stdout",
       "text": [
        " http://www.imdb.com/title/tt0286486/?ref_=nm_flmg_act_26\n",
        "24"
       ]
      },
      {
       "output_type": "stream",
       "stream": "stdout",
       "text": [
        " http://www.imdb.com/title/tt0285331/?ref_=nm_flmg_act_27\n",
        "ER"
       ]
      },
      {
       "output_type": "stream",
       "stream": "stdout",
       "text": [
        " http://www.imdb.com/title/tt0108757/?ref_=nm_flmg_act_28\n",
        "Star Trek: Enterprise"
       ]
      },
      {
       "output_type": "stream",
       "stream": "stdout",
       "text": [
        " http://www.imdb.com/title/tt0244365/?ref_=nm_flmg_act_29\n",
        "Without a Trace"
       ]
      },
      {
       "output_type": "stream",
       "stream": "stdout",
       "text": [
        " http://www.imdb.com/title/tt0321021/?ref_=nm_flmg_act_30\n",
        "Sin"
       ]
      },
      {
       "output_type": "stream",
       "stream": "stdout",
       "text": [
        " http://www.imdb.com/title/tt0307466/?ref_=nm_flmg_act_31\n",
        "Ride or Die"
       ]
      },
      {
       "output_type": "stream",
       "stream": "stdout",
       "text": [
        " http://www.imdb.com/title/tt0313532/?ref_=nm_flmg_act_32\n",
        "Street Time"
       ]
      },
      {
       "output_type": "stream",
       "stream": "stdout",
       "text": [
        " http://www.imdb.com/title/tt0296875/?ref_=nm_flmg_act_33\n",
        "Hulk"
       ]
      },
      {
       "output_type": "stream",
       "stream": "stdout",
       "text": [
        " http://www.imdb.com/title/tt0286716/?ref_=nm_flmg_act_34\n",
        "Momentum"
       ]
      },
      {
       "output_type": "stream",
       "stream": "stdout",
       "text": [
        " http://www.imdb.com/title/tt0316272/?ref_=nm_flmg_act_35\n",
        "Tenchu: Wrath of Heaven"
       ]
      },
      {
       "output_type": "stream",
       "stream": "stdout",
       "text": [
        " http://www.imdb.com/title/tt0280142/?ref_=nm_flmg_act_36\n",
        "Cradle 2 the Grave"
       ]
      },
      {
       "output_type": "stream",
       "stream": "stdout",
       "text": [
        " http://www.imdb.com/title/tt0306685/?ref_=nm_flmg_act_37\n",
        "Angel"
       ]
      },
      {
       "output_type": "stream",
       "stream": "stdout",
       "text": [
        " http://www.imdb.com/title/tt0162065/?ref_=nm_flmg_act_38\n",
        "Miss Match"
       ]
      },
      {
       "output_type": "stream",
       "stream": "stdout",
       "text": [
        " http://www.imdb.com/title/tt0362867/?ref_=nm_flmg_act_39\n",
        "Any Day Now"
       ]
      },
      {
       "output_type": "stream",
       "stream": "stdout",
       "text": [
        " http://www.imdb.com/title/tt0161233/?ref_=nm_flmg_act_40\n",
        "CSI: Crime Scene Investigation"
       ]
      },
      {
       "output_type": "stream",
       "stream": "stdout",
       "text": [
        " http://www.imdb.com/title/tt0247082/?ref_=nm_flmg_act_41\n",
        "Charmed"
       ]
      },
      {
       "output_type": "stream",
       "stream": "stdout",
       "text": [
        " http://www.imdb.com/title/tt0158552/?ref_=nm_flmg_act_42\n",
        "Once and Again"
       ]
      },
      {
       "output_type": "stream",
       "stream": "stdout",
       "text": [
        " http://www.imdb.com/title/tt0202198/?ref_=nm_flmg_act_43\n",
        "Looking for Bobby D"
       ]
      },
      {
       "output_type": "stream",
       "stream": "stdout",
       "text": [
        " http://www.imdb.com/title/tt0356833/?ref_=nm_flmg_act_44\n",
        "Murder, She Wrote: A Story to Die For"
       ]
      },
      {
       "output_type": "stream",
       "stream": "stdout",
       "text": [
        " http://www.imdb.com/title/tt0241743/?ref_=nm_flmg_act_45\n",
        "Star Trek: Voyager"
       ]
      },
      {
       "output_type": "stream",
       "stream": "stdout",
       "text": [
        " http://www.imdb.com/title/tt0112178/?ref_=nm_flmg_act_46\n",
        "Walker, Texas Ranger"
       ]
      },
      {
       "output_type": "stream",
       "stream": "stdout",
       "text": [
        " http://www.imdb.com/title/tt0106168/?ref_=nm_flmg_act_47\n",
        "For Love of the Game"
       ]
      },
      {
       "output_type": "stream",
       "stream": "stdout",
       "text": [
        " http://www.imdb.com/title/tt0126916/?ref_=nm_flmg_act_48\n",
        "Crusade"
       ]
      },
      {
       "output_type": "stream",
       "stream": "stdout",
       "text": [
        " http://www.imdb.com/title/tt0149437/?ref_=nm_flmg_act_49\n",
        "No Salida"
       ]
      },
      {
       "output_type": "stream",
       "stream": "stdout",
       "text": [
        " http://www.imdb.com/title/tt0181723/?ref_=nm_flmg_act_50\n",
        "Fantasy Island"
       ]
      },
      {
       "output_type": "stream",
       "stream": "stdout",
       "text": [
        " http://www.imdb.com/title/tt0158408/?ref_=nm_flmg_act_51\n",
        "Ally McBeal"
       ]
      },
      {
       "output_type": "stream",
       "stream": "stdout",
       "text": [
        " http://www.imdb.com/title/tt0118254/?ref_=nm_flmg_act_52\n",
        "The Practice"
       ]
      },
      {
       "output_type": "stream",
       "stream": "stdout",
       "text": [
        " http://www.imdb.com/title/tt0118437/?ref_=nm_flmg_act_53\n",
        "Brave New World"
       ]
      },
      {
       "output_type": "stream",
       "stream": "stdout",
       "text": [
        " http://www.imdb.com/title/tt0145600/?ref_=nm_flmg_act_54\n",
        "Seinfeld"
       ]
      },
      {
       "output_type": "stream",
       "stream": "stdout",
       "text": [
        " http://www.imdb.com/title/tt0098904/?ref_=nm_flmg_act_55\n",
        "The Pretender"
       ]
      },
      {
       "output_type": "stream",
       "stream": "stdout",
       "text": [
        " http://www.imdb.com/title/tt0115320/?ref_=nm_flmg_act_56\n",
        "The Jackal"
       ]
      },
      {
       "output_type": "stream",
       "stream": "stdout",
       "text": [
        " http://www.imdb.com/title/tt0119395/?ref_=nm_flmg_act_57\n",
        "NYPD Blue"
       ]
      },
      {
       "output_type": "stream",
       "stream": "stdout",
       "text": [
        " http://www.imdb.com/title/tt0106079/?ref_=nm_flmg_act_58\n",
        "Beverly Hills, 90210"
       ]
      },
      {
       "output_type": "stream",
       "stream": "stdout",
       "text": [
        " http://www.imdb.com/title/tt0098749/?ref_=nm_flmg_act_59\n",
        "NightMan"
       ]
      },
      {
       "output_type": "stream",
       "stream": "stdout",
       "text": [
        " http://www.imdb.com/title/tt0128886/?ref_=nm_flmg_act_60\n",
        "Pacific Palisades"
       ]
      },
      {
       "output_type": "stream",
       "stream": "stdout",
       "text": [
        " http://www.imdb.com/title/tt0118422/?ref_=nm_flmg_act_61\n",
        "Addicted to Love"
       ]
      },
      {
       "output_type": "stream",
       "stream": "stdout",
       "text": [
        " http://www.imdb.com/title/tt0118556/?ref_=nm_flmg_act_62\n",
        "All My Children"
       ]
      },
      {
       "output_type": "stream",
       "stream": "stdout",
       "text": [
        " http://www.imdb.com/title/tt0065272/?ref_=nm_flmg_act_63\n",
        "All-American Girl"
       ]
      },
      {
       "output_type": "stream",
       "stream": "stdout",
       "text": [
        " http://www.imdb.com/title/tt0108693/?ref_=nm_flmg_act_64\n",
        "Law & Order"
       ]
      },
      {
       "output_type": "stream",
       "stream": "stdout",
       "text": [
        " http://www.imdb.com/title/tt0098844/?ref_=nm_flmg_act_65\n",
        "Unsolved Mysteries"
       ]
      },
      {
       "output_type": "stream",
       "stream": "stdout",
       "text": [
        " http://www.imdb.com/title/tt0094574/?ref_=nm_flmg_act_66\n",
        "American Shaolin"
       ]
      },
      {
       "output_type": "stream",
       "stream": "stdout",
       "text": [
        " http://www.imdb.com/title/tt0101327/?ref_=nm_flmg_act_67\n",
        "----- Starting on:"
       ]
      },
      {
       "output_type": "stream",
       "stream": "stdout",
       "text": [
        " Yunjin Kim -----\n",
        "Mistresses"
       ]
      },
      {
       "output_type": "stream",
       "stream": "stdout",
       "text": [
        " http://www.imdb.com/title/tt2295809/?ref_=nm_flmg_act_1\n",
        "The International Market"
       ]
      },
      {
       "output_type": "stream",
       "stream": "stdout",
       "text": [
        " http://www.imdb.com/title/tt3812366/?ref_=nm_flmg_act_2\n",
        "The Neighbors"
       ]
      },
      {
       "output_type": "stream",
       "stream": "stdout",
       "text": [
        " http://www.imdb.com/title/tt2195490/?ref_=nm_flmg_act_3\n",
        "Sleeping Dogs"
       ]
      },
      {
       "output_type": "stream",
       "stream": "stdout",
       "text": [
        " http://www.imdb.com/title/tt2241982/?ref_=nm_flmg_act_4\n",
        "Sim-jang-i Ddwooin-da"
       ]
      },
      {
       "output_type": "stream",
       "stream": "stdout",
       "text": [
        " http://www.imdb.com/title/tt1820667/?ref_=nm_flmg_act_5\n",
        "Lost"
       ]
      },
      {
       "output_type": "stream",
       "stream": "stdout",
       "text": [
        " http://www.imdb.com/title/tt0411008/?ref_=nm_flmg_act_6\n",
        "Hamoni"
       ]
      },
      {
       "output_type": "stream",
       "stream": "stdout",
       "text": [
        " http://www.imdb.com/title/tt1588356/?ref_=nm_flmg_act_7\n",
        "Lost: Via Domus"
       ]
      },
      {
       "output_type": "stream",
       "stream": "stdout",
       "text": [
        " http://www.imdb.com/title/tt0815191/?ref_=nm_flmg_act_8\n",
        "Two Sisters"
       ]
      },
      {
       "output_type": "stream",
       "stream": "stdout",
       "text": [
        " http://www.imdb.com/title/tt0944968/?ref_=nm_flmg_act_9\n",
        "Lost: Missing Pieces"
       ]
      },
      {
       "output_type": "stream",
       "stream": "stdout",
       "text": [
        " http://www.imdb.com/title/tt1150692/?ref_=nm_flmg_act_10\n",
        "Se-beun De-i-jeu"
       ]
      },
      {
       "output_type": "stream",
       "stream": "stdout",
       "text": [
        " http://www.imdb.com/title/tt0997229/?ref_=nm_flmg_act_11\n",
        "Yu-wol-ui il-gi"
       ]
      },
      {
       "output_type": "stream",
       "stream": "stdout",
       "text": [
        " http://www.imdb.com/title/tt0475557/?ref_=nm_flmg_act_12\n",
        "Ardor"
       ]
      },
      {
       "output_type": "stream",
       "stream": "stdout",
       "text": [
        " http://www.imdb.com/title/tt0341470/?ref_=nm_flmg_act_13\n",
        "Yesterday"
       ]
      },
      {
       "output_type": "stream",
       "stream": "stdout",
       "text": [
        " http://www.imdb.com/title/tt0326441/?ref_=nm_flmg_act_14\n",
        "Iron Palm"
       ]
      },
      {
       "output_type": "stream",
       "stream": "stdout",
       "text": [
        " http://www.imdb.com/title/tt0314214/?ref_=nm_flmg_act_15\n",
        "Rush!"
       ]
      },
      {
       "output_type": "stream",
       "stream": "stdout",
       "text": [
        " http://www.imdb.com/title/tt0297367/?ref_=nm_flmg_act_16\n",
        "Danjeogbiyeonsu"
       ]
      },
      {
       "output_type": "stream",
       "stream": "stdout",
       "text": [
        " http://www.imdb.com/title/tt0297071/?ref_=nm_flmg_act_17\n",
        "Swiri"
       ]
      },
      {
       "output_type": "stream",
       "stream": "stdout",
       "text": [
        " http://www.imdb.com/title/tt0192657/?ref_=nm_flmg_act_18\n",
        "With Love"
       ]
      },
      {
       "output_type": "stream",
       "stream": "stdout",
       "text": [
        " http://www.imdb.com/title/tt0237988/?ref_=nm_flmg_act_19\n",
        "Weding Deureseu"
       ]
      },
      {
       "output_type": "stream",
       "stream": "stdout",
       "text": [
        " http://www.imdb.com/title/tt0462655/?ref_=nm_flmg_act_20\n",
        "Beautiful Vacation"
       ]
      },
      {
       "output_type": "stream",
       "stream": "stdout",
       "text": [
        " http://www.imdb.com/title/tt0255722/?ref_=nm_flmg_act_21\n",
        "----- Starting on:"
       ]
      },
      {
       "output_type": "stream",
       "stream": "stdout",
       "text": [
        " Evangeline Lilly -----\n",
        "Ant-Man"
       ]
      },
      {
       "output_type": "stream",
       "stream": "stdout",
       "text": [
        " http://www.imdb.com/title/tt0478970/?ref_=nm_flmg_act_1\n",
        "The Hobbit: The Battle of the Five Armies"
       ]
      },
      {
       "output_type": "stream",
       "stream": "stdout",
       "text": [
        " http://www.imdb.com/title/tt2310332/?ref_=nm_flmg_act_2\n",
        "The Hobbit: The Desolation of Smaug"
       ]
      },
      {
       "output_type": "stream",
       "stream": "stdout",
       "text": [
        " http://www.imdb.com/title/tt1170358/?ref_=nm_flmg_act_3\n",
        "Real Steel"
       ]
      },
      {
       "output_type": "stream",
       "stream": "stdout",
       "text": [
        " http://www.imdb.com/title/tt0433035/?ref_=nm_flmg_act_4\n",
        "Lost"
       ]
      },
      {
       "output_type": "stream",
       "stream": "stdout",
       "text": [
        " http://www.imdb.com/title/tt0411008/?ref_=nm_flmg_act_5\n",
        "Afterwards"
       ]
      },
      {
       "output_type": "stream",
       "stream": "stdout",
       "text": [
        " http://www.imdb.com/title/tt0940580/?ref_=nm_flmg_act_6\n",
        "The Hurt Locker"
       ]
      },
      {
       "output_type": "stream",
       "stream": "stdout",
       "text": [
        " http://www.imdb.com/title/tt0887912/?ref_=nm_flmg_act_7\n",
        "The Long Weekend"
       ]
      },
      {
       "output_type": "stream",
       "stream": "stdout",
       "text": [
        " http://www.imdb.com/title/tt0385057/?ref_=nm_flmg_act_8\n",
        "White Chicks"
       ]
      },
      {
       "output_type": "stream",
       "stream": "stdout",
       "text": [
        " http://www.imdb.com/title/tt0381707/?ref_=nm_flmg_act_9\n",
        "Kingdom Hospital"
       ]
      },
      {
       "output_type": "stream",
       "stream": "stdout",
       "text": [
        " http://www.imdb.com/title/tt0324864/?ref_=nm_flmg_act_10\n",
        "Smallville"
       ]
      },
      {
       "output_type": "stream",
       "stream": "stdout",
       "text": [
        " http://www.imdb.com/title/tt0279600/?ref_=nm_flmg_act_11\n",
        "Tru Calling"
       ]
      },
      {
       "output_type": "stream",
       "stream": "stdout",
       "text": [
        " http://www.imdb.com/title/tt0364817/?ref_=nm_flmg_act_12\n",
        "Freddy vs. Jason"
       ]
      },
      {
       "output_type": "stream",
       "stream": "stdout",
       "text": [
        " http://www.imdb.com/title/tt0329101/?ref_=nm_flmg_act_13\n",
        "The Lizzie McGuire Movie"
       ]
      },
      {
       "output_type": "stream",
       "stream": "stdout",
       "text": [
        " http://www.imdb.com/title/tt0306841/?ref_=nm_flmg_act_14\n",
        "Stealing Sinatra"
       ]
      },
      {
       "output_type": "stream",
       "stream": "stdout",
       "text": [
        " http://www.imdb.com/title/tt0311863/?ref_=nm_flmg_act_15\n",
        "Judgment Day"
       ]
      },
      {
       "output_type": "stream",
       "stream": "stdout",
       "text": [
        " http://www.imdb.com/title/tt0367347/?ref_=nm_flmg_act_16\n",
        "----- Starting on:"
       ]
      },
      {
       "output_type": "stream",
       "stream": "stdout",
       "text": [
        " Terry O'Quinn -----\n",
        "Hawaii Five-0"
       ]
      },
      {
       "output_type": "stream",
       "stream": "stdout",
       "text": [
        " http://www.imdb.com/title/tt1600194/?ref_=nm_flmg_act_1\n",
        "Full Circle"
       ]
      },
      {
       "output_type": "stream",
       "stream": "stdout",
       "text": [
        " http://www.imdb.com/title/tt2888334/?ref_=nm_flmg_act_2\n",
        "Phineas and Ferb"
       ]
      },
      {
       "output_type": "stream",
       "stream": "stdout",
       "text": [
        " http://www.imdb.com/title/tt0852863/?ref_=nm_flmg_act_3\n",
        "Gang Related"
       ]
      },
      {
       "output_type": "stream",
       "stream": "stdout",
       "text": [
        " http://www.imdb.com/title/tt2719784/?ref_=nm_flmg_act_4\n",
        "Falling Skies"
       ]
      },
      {
       "output_type": "stream",
       "stream": "stdout",
       "text": [
        " http://www.imdb.com/title/tt1462059/?ref_=nm_flmg_act_5\n",
        "666 Park Avenue"
       ]
      },
      {
       "output_type": "stream",
       "stream": "stdout",
       "text": [
        " http://www.imdb.com/title/tt2197797/?ref_=nm_flmg_act_6\n",
        "Ring of Fire"
       ]
      },
      {
       "output_type": "stream",
       "stream": "stdout",
       "text": [
        " http://www.imdb.com/title/tt2315850/?ref_=nm_flmg_act_7\n",
        "Hallelujah"
       ]
      },
      {
       "output_type": "stream",
       "stream": "stdout",
       "text": [
        " http://www.imdb.com/title/tt1837565/?ref_=nm_flmg_act_8\n",
        "Taken from Me: The Tiffany Rubin Story"
       ]
      },
      {
       "output_type": "stream",
       "stream": "stdout",
       "text": [
        " http://www.imdb.com/title/tt1707825/?ref_=nm_flmg_act_9\n",
        "Lost"
       ]
      },
      {
       "output_type": "stream",
       "stream": "stdout",
       "text": [
        " http://www.imdb.com/title/tt0411008/?ref_=nm_flmg_act_10\n",
        "Masters of Science Fiction"
       ]
      },
      {
       "output_type": "stream",
       "stream": "stdout",
       "text": [
        " http://www.imdb.com/title/tt0772139/?ref_=nm_flmg_act_11\n",
        "The West Wing"
       ]
      },
      {
       "output_type": "stream",
       "stream": "stdout",
       "text": [
        " http://www.imdb.com/title/tt0200276/?ref_=nm_flmg_act_12\n",
        "The Animated Alias: Tribunal"
       ]
      },
      {
       "output_type": "stream",
       "stream": "stdout",
       "text": [
        " http://www.imdb.com/title/tt0423822/?ref_=nm_flmg_act_13\n",
        "NCIS"
       ]
      },
      {
       "output_type": "stream",
       "stream": "stdout",
       "text": [
        " http://www.imdb.com/title/tt0364845/?ref_=nm_flmg_act_14\n",
        "Law & Order: Criminal Intent"
       ]
      },
      {
       "output_type": "stream",
       "stream": "stdout",
       "text": [
        " http://www.imdb.com/title/tt0275140/?ref_=nm_flmg_act_15\n",
        "Alias"
       ]
      },
      {
       "output_type": "stream",
       "stream": "stdout",
       "text": [
        " http://www.imdb.com/title/tt0285333/?ref_=nm_flmg_act_16\n",
        "Phenomenon II"
       ]
      },
      {
       "output_type": "stream",
       "stream": "stdout",
       "text": [
        " http://www.imdb.com/title/tt0313116/?ref_=nm_flmg_act_17\n",
        "Old School"
       ]
      },
      {
       "output_type": "stream",
       "stream": "stdout",
       "text": [
        " http://www.imdb.com/title/tt0302886/?ref_=nm_flmg_act_18\n",
        "JAG"
       ]
      },
      {
       "output_type": "stream",
       "stream": "stdout",
       "text": [
        " http://www.imdb.com/title/tt0112022/?ref_=nm_flmg_act_19\n",
        "The Locket"
       ]
      },
      {
       "output_type": "stream",
       "stream": "stdout",
       "text": [
        " http://www.imdb.com/title/tt0327016/?ref_=nm_flmg_act_20\n",
        "First Monday"
       ]
      },
      {
       "output_type": "stream",
       "stream": "stdout",
       "text": [
        " http://www.imdb.com/title/tt0297560/?ref_=nm_flmg_act_21\n",
        "Hometown Legend"
       ]
      },
      {
       "output_type": "stream",
       "stream": "stdout",
       "text": [
        " http://www.imdb.com/title/tt0260695/?ref_=nm_flmg_act_22\n",
        "The X-Files"
       ]
      },
      {
       "output_type": "stream",
       "stream": "stdout",
       "text": [
        " http://www.imdb.com/title/tt0106179/?ref_=nm_flmg_act_23\n",
        "Roswell"
       ]
      },
      {
       "output_type": "stream",
       "stream": "stdout",
       "text": [
        " http://www.imdb.com/title/tt0201391/?ref_=nm_flmg_act_24\n",
        "American Outlaws"
       ]
      },
      {
       "output_type": "stream",
       "stream": "stdout",
       "text": [
        " http://www.imdb.com/title/tt0244000/?ref_=nm_flmg_act_25\n",
        "WW 3"
       ]
      },
      {
       "output_type": "stream",
       "stream": "stdout",
       "text": [
        " http://www.imdb.com/title/tt0290102/?ref_=nm_flmg_act_26\n",
        "Semper Fi"
       ]
      },
      {
       "output_type": "stream",
       "stream": "stdout",
       "text": [
        " http://www.imdb.com/title/tt0233105/?ref_=nm_flmg_act_27\n",
        "Harsh Realm"
       ]
      },
      {
       "output_type": "stream",
       "stream": "stdout",
       "text": [
        " http://www.imdb.com/title/tt0182587/?ref_=nm_flmg_act_28\n",
        "Rated X"
       ]
      },
      {
       "output_type": "stream",
       "stream": "stdout",
       "text": [
        " http://www.imdb.com/title/tt0201776/?ref_=nm_flmg_act_29\n",
        "Millennium"
       ]
      },
      {
       "output_type": "stream",
       "stream": "stdout",
       "text": [
        " http://www.imdb.com/title/tt0115270/?ref_=nm_flmg_act_30\n",
        "Murder in a Small Town"
       ]
      },
      {
       "output_type": "stream",
       "stream": "stdout",
       "text": [
        " http://www.imdb.com/title/tt0171546/?ref_=nm_flmg_act_31\n",
        "The X Files"
       ]
      },
      {
       "output_type": "stream",
       "stream": "stdout",
       "text": [
        " http://www.imdb.com/title/tt0120902/?ref_=nm_flmg_act_32\n",
        "Breast Men"
       ]
      },
      {
       "output_type": "stream",
       "stream": "stdout",
       "text": [
        " http://www.imdb.com/title/tt0133643/?ref_=nm_flmg_act_33\n",
        "My Stepson, My Lover"
       ]
      },
      {
       "output_type": "stream",
       "stream": "stdout",
       "text": [
        " http://www.imdb.com/title/tt0119796/?ref_=nm_flmg_act_34\n",
        "On the Edge of Innocence"
       ]
      },
      {
       "output_type": "stream",
       "stream": "stdout",
       "text": [
        " http://www.imdb.com/title/tt0119829/?ref_=nm_flmg_act_35\n",
        "Shadow Conspiracy"
       ]
      },
      {
       "output_type": "stream",
       "stream": "stdout",
       "text": [
        " http://www.imdb.com/title/tt0120107/?ref_=nm_flmg_act_36\n",
        "Ghosts of Mississippi"
       ]
      },
      {
       "output_type": "stream",
       "stream": "stdout",
       "text": [
        " http://www.imdb.com/title/tt0116410/?ref_=nm_flmg_act_37\n",
        "Diagnosis Murder"
       ]
      },
      {
       "output_type": "stream",
       "stream": "stdout",
       "text": [
        " http://www.imdb.com/title/tt0105986/?ref_=nm_flmg_act_38\n",
        "Primal Fear"
       ]
      },
      {
       "output_type": "stream",
       "stream": "stdout",
       "text": [
        " http://www.imdb.com/title/tt0117381/?ref_=nm_flmg_act_39\n",
        "Homicide: Life on the Street"
       ]
      },
      {
       "output_type": "stream",
       "stream": "stdout",
       "text": [
        " http://www.imdb.com/title/tt0106028/?ref_=nm_flmg_act_40\n",
        "The Client"
       ]
      },
      {
       "output_type": "stream",
       "stream": "stdout",
       "text": [
        " http://www.imdb.com/title/tt0111924/?ref_=nm_flmg_act_41\n",
        "Earth 2"
       ]
      },
      {
       "output_type": "stream",
       "stream": "stdout",
       "text": [
        " http://www.imdb.com/title/tt0108758/?ref_=nm_flmg_act_42\n",
        "Ray Alexander: A Menu for Murder"
       ]
      },
      {
       "output_type": "stream",
       "stream": "stdout",
       "text": [
        " http://www.imdb.com/title/tt0114239/?ref_=nm_flmg_act_43\n",
        "Shadow Warriors"
       ]
      },
      {
       "output_type": "stream",
       "stream": "stdout",
       "text": [
        " http://www.imdb.com/title/tt0117612/?ref_=nm_flmg_act_44\n",
        "Tales from the Crypt"
       ]
      },
      {
       "output_type": "stream",
       "stream": "stdout",
       "text": [
        " http://www.imdb.com/title/tt0096708/?ref_=nm_flmg_act_45\n",
        "Matlock"
       ]
      },
      {
       "output_type": "stream",
       "stream": "stdout",
       "text": [
        " http://www.imdb.com/title/tt0090481/?ref_=nm_flmg_act_46\n",
        "A Friend to Die For"
       ]
      },
      {
       "output_type": "stream",
       "stream": "stdout",
       "text": [
        " http://www.imdb.com/title/tt0109847/?ref_=nm_flmg_act_47\n",
        "Justice in a Small Town"
       ]
      },
      {
       "output_type": "stream",
       "stream": "stdout",
       "text": [
        " http://www.imdb.com/title/tt0110219/?ref_=nm_flmg_act_48\n",
        "Don't Talk to Strangers"
       ]
      },
      {
       "output_type": "stream",
       "stream": "stdout",
       "text": [
        " http://www.imdb.com/title/tt0109647/?ref_=nm_flmg_act_49\n",
        "Heart of a Child"
       ]
      },
      {
       "output_type": "stream",
       "stream": "stdout",
       "text": [
        " http://www.imdb.com/title/tt0110003/?ref_=nm_flmg_act_50\n",
        "Lipstick Camera"
       ]
      },
      {
       "output_type": "stream",
       "stream": "stdout",
       "text": [
        " http://www.imdb.com/title/tt0110359/?ref_=nm_flmg_act_51\n",
        "MacShayne: Winner Takes All"
       ]
      },
      {
       "output_type": "stream",
       "stream": "stdout",
       "text": [
        " http://www.imdb.com/title/tt0110422/?ref_=nm_flmg_act_52\n",
        "Star Trek: The Next Generation"
       ]
      },
      {
       "output_type": "stream",
       "stream": "stdout",
       "text": [
        " http://www.imdb.com/title/tt0092455/?ref_=nm_flmg_act_53\n",
        "Tombstone"
       ]
      },
      {
       "output_type": "stream",
       "stream": "stdout",
       "text": [
        " http://www.imdb.com/title/tt0108358/?ref_=nm_flmg_act_54\n",
        "Amityville: A New Generation"
       ]
      },
      {
       "output_type": "stream",
       "stream": "stdout",
       "text": [
        " http://www.imdb.com/title/tt0106262/?ref_=nm_flmg_act_55\n",
        "Visions of Murder"
       ]
      },
      {
       "output_type": "stream",
       "stream": "stdout",
       "text": [
        " http://www.imdb.com/title/tt0108499/?ref_=nm_flmg_act_56\n",
        "Born Too Soon"
       ]
      },
      {
       "output_type": "stream",
       "stream": "stdout",
       "text": [
        " http://www.imdb.com/title/tt0106465/?ref_=nm_flmg_act_57\n",
        "My Samurai"
       ]
      },
      {
       "output_type": "stream",
       "stream": "stdout",
       "text": [
        " http://www.imdb.com/title/tt0104956/?ref_=nm_flmg_act_58\n",
        "The Good Fight"
       ]
      },
      {
       "output_type": "stream",
       "stream": "stdout",
       "text": [
        " http://www.imdb.com/title/tt0104359/?ref_=nm_flmg_act_59\n",
        "Wild Card"
       ]
      },
      {
       "output_type": "stream",
       "stream": "stdout",
       "text": [
        " http://www.imdb.com/title/tt0105818/?ref_=nm_flmg_act_60\n",
        "Sexual Advances"
       ]
      },
      {
       "output_type": "stream",
       "stream": "stdout",
       "text": [
        " http://www.imdb.com/title/tt0105370/?ref_=nm_flmg_act_61\n",
        "L.A. Law"
       ]
      },
      {
       "output_type": "stream",
       "stream": "stdout",
       "text": [
        " http://www.imdb.com/title/tt0090466/?ref_=nm_flmg_act_62\n",
        "Trial: The Price of Passion"
       ]
      },
      {
       "output_type": "stream",
       "stream": "stdout",
       "text": [
        " http://www.imdb.com/title/tt0105638/?ref_=nm_flmg_act_63\n",
        "Deliver Them from Evil: The Taking of Alta View"
       ]
      },
      {
       "output_type": "stream",
       "stream": "stdout",
       "text": [
        " http://www.imdb.com/title/tt0104077/?ref_=nm_flmg_act_64\n",
        "The Cutting Edge"
       ]
      },
      {
       "output_type": "stream",
       "stream": "stdout",
       "text": [
        " http://www.imdb.com/title/tt0104040/?ref_=nm_flmg_act_65\n",
        "Company Business"
       ]
      },
      {
       "output_type": "stream",
       "stream": "stdout",
       "text": [
        " http://www.imdb.com/title/tt0101606/?ref_=nm_flmg_act_66\n",
        "The Rocketeer"
       ]
      },
      {
       "output_type": "stream",
       "stream": "stdout",
       "text": [
        " http://www.imdb.com/title/tt0102803/?ref_=nm_flmg_act_67\n",
        "Shoot First: A Cop's Vengeance"
       ]
      },
      {
       "output_type": "stream",
       "stream": "stdout",
       "text": [
        " http://www.imdb.com/title/tt0102911/?ref_=nm_flmg_act_68\n",
        "Son of the Morning Star"
       ]
      },
      {
       "output_type": "stream",
       "stream": "stdout",
       "text": [
        " http://www.imdb.com/title/tt0102962/?ref_=nm_flmg_act_69\n",
        "The Last to Go"
       ]
      },
      {
       "output_type": "stream",
       "stream": "stdout",
       "text": [
        " http://www.imdb.com/title/tt0102277/?ref_=nm_flmg_act_70\n",
        "Kaleidoscope"
       ]
      },
      {
       "output_type": "stream",
       "stream": "stdout",
       "text": [
        " http://www.imdb.com/title/tt0099915/?ref_=nm_flmg_act_71\n",
        "Prisoners of the Sun"
       ]
      },
      {
       "output_type": "stream",
       "stream": "stdout",
       "text": [
        " http://www.imdb.com/title/tt0100414/?ref_=nm_flmg_act_72\n",
        "Jake and the Fatman"
       ]
      },
      {
       "output_type": "stream",
       "stream": "stdout",
       "text": [
        " http://www.imdb.com/title/tt0092381/?ref_=nm_flmg_act_73\n",
        "Perry Mason: The Case of the Desperate Deception"
       ]
      },
      {
       "output_type": "stream",
       "stream": "stdout",
       "text": [
        " http://www.imdb.com/title/tt0100350/?ref_=nm_flmg_act_74\n",
        "Stepfather II"
       ]
      },
      {
       "output_type": "stream",
       "stream": "stdout",
       "text": [
        " http://www.imdb.com/title/tt0098385/?ref_=nm_flmg_act_75\n",
        "The Forgotten One"
       ]
      },
      {
       "output_type": "stream",
       "stream": "stdout",
       "text": [
        " http://www.imdb.com/title/tt0099601/?ref_=nm_flmg_act_76\n",
        "Blind Fury"
       ]
      },
      {
       "output_type": "stream",
       "stream": "stdout",
       "text": [
        " http://www.imdb.com/title/tt0096945/?ref_=nm_flmg_act_77\n",
        "Roe vs. Wade"
       ]
      },
      {
       "output_type": "stream",
       "stream": "stdout",
       "text": [
        " http://www.imdb.com/title/tt0098212/?ref_=nm_flmg_act_78\n",
        "Guts and Glory: The Rise and Fall of Oliver North"
       ]
      },
      {
       "output_type": "stream",
       "stream": "stdout",
       "text": [
        " http://www.imdb.com/title/tt0097469/?ref_=nm_flmg_act_79\n",
        "The Jogger"
       ]
      },
      {
       "output_type": "stream",
       "stream": "stdout",
       "text": [
        " http://www.imdb.com/title/tt0137039/?ref_=nm_flmg_act_80\n",
        "Young Guns"
       ]
      },
      {
       "output_type": "stream",
       "stream": "stdout",
       "text": [
        " http://www.imdb.com/title/tt0096487/?ref_=nm_flmg_act_81\n",
        "Pin"
       ]
      },
      {
       "output_type": "stream",
       "stream": "stdout",
       "text": [
        " http://www.imdb.com/title/tt0095871/?ref_=nm_flmg_act_82\n",
        "A Year in the Life"
       ]
      },
      {
       "output_type": "stream",
       "stream": "stdout",
       "text": [
        " http://www.imdb.com/title/tt0092488/?ref_=nm_flmg_act_83\n",
        "Stranger on My Land"
       ]
      },
      {
       "output_type": "stream",
       "stream": "stdout",
       "text": [
        " http://www.imdb.com/title/tt0096181/?ref_=nm_flmg_act_84\n",
        "Moonlighting"
       ]
      },
      {
       "output_type": "stream",
       "stream": "stdout",
       "text": [
        " http://www.imdb.com/title/tt0088571/?ref_=nm_flmg_act_85\n",
        "When the Time Comes"
       ]
      },
      {
       "output_type": "stream",
       "stream": "stdout",
       "text": [
        " http://www.imdb.com/title/tt0094316/?ref_=nm_flmg_act_86\n",
        "Black Widow"
       ]
      },
      {
       "output_type": "stream",
       "stream": "stdout",
       "text": [
        " http://www.imdb.com/title/tt0090738/?ref_=nm_flmg_act_87\n",
        "The Stepfather"
       ]
      },
      {
       "output_type": "stream",
       "stream": "stdout",
       "text": [
        " http://www.imdb.com/title/tt0094035/?ref_=nm_flmg_act_88\n",
        "At Mother's Request"
       ]
      },
      {
       "output_type": "stream",
       "stream": "stdout",
       "text": [
        " http://www.imdb.com/title/tt0092590/?ref_=nm_flmg_act_89\n",
        "Women of Valor"
       ]
      },
      {
       "output_type": "stream",
       "stream": "stdout",
       "text": [
        " http://www.imdb.com/title/tt0092236/?ref_=nm_flmg_act_90\n",
        "SpaceCamp"
       ]
      },
      {
       "output_type": "stream",
       "stream": "stdout",
       "text": [
        " http://www.imdb.com/title/tt0091993/?ref_=nm_flmg_act_91\n",
        "Between Two Women"
       ]
      },
      {
       "output_type": "stream",
       "stream": "stdout",
       "text": [
        " http://www.imdb.com/title/tt0090717/?ref_=nm_flmg_act_92\n",
        "Remington Steele"
       ]
      },
      {
       "output_type": "stream",
       "stream": "stdout",
       "text": [
        " http://www.imdb.com/title/tt0083470/?ref_=nm_flmg_act_93\n",
        "An Early Frost"
       ]
      },
      {
       "output_type": "stream",
       "stream": "stdout",
       "text": [
        " http://www.imdb.com/title/tt0089069/?ref_=nm_flmg_act_94\n",
        "Silver Bullet"
       ]
      },
      {
       "output_type": "stream",
       "stream": "stdout",
       "text": [
        " http://www.imdb.com/title/tt0090021/?ref_=nm_flmg_act_95\n",
        "The Twilight Zone"
       ]
      },
      {
       "output_type": "stream",
       "stream": "stdout",
       "text": [
        " http://www.imdb.com/title/tt0088634/?ref_=nm_flmg_act_96\n",
        "Right to Kill?"
       ]
      },
      {
       "output_type": "stream",
       "stream": "stdout",
       "text": [
        " http://www.imdb.com/title/tt0089920/?ref_=nm_flmg_act_97\n",
        "Mischief"
       ]
      },
      {
       "output_type": "stream",
       "stream": "stdout",
       "text": [
        " http://www.imdb.com/title/tt0089601/?ref_=nm_flmg_act_98\n",
        "Mrs. Soffel"
       ]
      },
      {
       "output_type": "stream",
       "stream": "stdout",
       "text": [
        " http://www.imdb.com/title/tt0087751/?ref_=nm_flmg_act_99\n",
        "Miami Vice"
       ]
      },
      {
       "output_type": "stream",
       "stream": "stdout",
       "text": [
        " http://www.imdb.com/title/tt0086759/?ref_=nm_flmg_act_100\n",
        "Places in the Heart"
       ]
      },
      {
       "output_type": "stream",
       "stream": "stdout",
       "text": [
        " http://www.imdb.com/title/tt0087921/?ref_=nm_flmg_act_101\n",
        "All the Right Moves"
       ]
      },
      {
       "output_type": "stream",
       "stream": "stdout",
       "text": [
        " http://www.imdb.com/title/tt0085154/?ref_=nm_flmg_act_102\n",
        "ABC Afterschool Specials"
       ]
      },
      {
       "output_type": "stream",
       "stream": "stdout",
       "text": [
        " http://www.imdb.com/title/tt0202179/?ref_=nm_flmg_act_103\n",
        "Without a Trace"
       ]
      },
      {
       "output_type": "stream",
       "stream": "stdout",
       "text": [
        " http://www.imdb.com/title/tt0086593/?ref_=nm_flmg_act_104\n",
        "Tales of the Unexpected"
       ]
      },
      {
       "output_type": "stream",
       "stream": "stdout",
       "text": [
        " http://www.imdb.com/title/tt0075592/?ref_=nm_flmg_act_105\n",
        "Heaven's Gate"
       ]
      },
      {
       "output_type": "stream",
       "stream": "stdout",
       "text": [
        " http://www.imdb.com/title/tt0080855/?ref_=nm_flmg_act_106\n",
        "F.D.R.: The Last Year"
       ]
      },
      {
       "output_type": "stream",
       "stream": "stdout",
       "text": [
        " http://www.imdb.com/title/tt0080708/?ref_=nm_flmg_act_107\n",
        "The Doctors"
       ]
      },
      {
       "output_type": "stream",
       "stream": "stdout",
       "text": [
        " http://www.imdb.com/title/tt0056752/?ref_=nm_flmg_act_108\n",
        "----- Starting on:"
       ]
      },
      {
       "output_type": "stream",
       "stream": "stdout",
       "text": [
        " Emilie de Ravin -----\n",
        "The Submarine Kid"
       ]
      },
      {
       "output_type": "stream",
       "stream": "stdout",
       "text": [
        " http://www.imdb.com/title/tt3217994/?ref_=nm_flmg_act_1\n",
        "Once Upon a Time"
       ]
      },
      {
       "output_type": "stream",
       "stream": "stdout",
       "text": [
        " http://www.imdb.com/title/tt1843230/?ref_=nm_flmg_act_2\n",
        "Once Upon a Time: The Price of Magic"
       ]
      },
      {
       "output_type": "stream",
       "stream": "stdout",
       "text": [
        " http://www.imdb.com/title/tt2874334/?ref_=nm_flmg_act_3\n",
        "Air Force One Is Down"
       ]
      },
      {
       "output_type": "stream",
       "stream": "stdout",
       "text": [
        " http://www.imdb.com/title/tt2338467/?ref_=nm_flmg_act_4\n",
        "Hulluna Saraan"
       ]
      },
      {
       "output_type": "stream",
       "stream": "stdout",
       "text": [
        " http://www.imdb.com/title/tt1607577/?ref_=nm_flmg_act_5\n",
        "Americana"
       ]
      },
      {
       "output_type": "stream",
       "stream": "stdout",
       "text": [
        " http://www.imdb.com/title/tt2255731/?ref_=nm_flmg_act_6\n",
        "Operation: Endgame"
       ]
      },
      {
       "output_type": "stream",
       "stream": "stdout",
       "text": [
        " http://www.imdb.com/title/tt1268987/?ref_=nm_flmg_act_7\n",
        "Lost"
       ]
      },
      {
       "output_type": "stream",
       "stream": "stdout",
       "text": [
        " http://www.imdb.com/title/tt0411008/?ref_=nm_flmg_act_8\n",
        "The Chameleon"
       ]
      },
      {
       "output_type": "stream",
       "stream": "stdout",
       "text": [
        " http://www.imdb.com/title/tt1359553/?ref_=nm_flmg_act_9\n",
        "Remember Me"
       ]
      },
      {
       "output_type": "stream",
       "stream": "stdout",
       "text": [
        " http://www.imdb.com/title/tt1403981/?ref_=nm_flmg_act_10\n",
        "Public Enemies"
       ]
      },
      {
       "output_type": "stream",
       "stream": "stdout",
       "text": [
        " http://www.imdb.com/title/tt1152836/?ref_=nm_flmg_act_11\n",
        "High Noon"
       ]
      },
      {
       "output_type": "stream",
       "stream": "stdout",
       "text": [
        " http://www.imdb.com/title/tt1359554/?ref_=nm_flmg_act_12\n",
        "The Perfect Game"
       ]
      },
      {
       "output_type": "stream",
       "stream": "stdout",
       "text": [
        " http://www.imdb.com/title/tt0473102/?ref_=nm_flmg_act_13\n",
        "Ball Don't Lie"
       ]
      },
      {
       "output_type": "stream",
       "stream": "stdout",
       "text": [
        " http://www.imdb.com/title/tt0906727/?ref_=nm_flmg_act_14\n",
        "Lost: Via Domus"
       ]
      },
      {
       "output_type": "stream",
       "stream": "stdout",
       "text": [
        " http://www.imdb.com/title/tt0815191/?ref_=nm_flmg_act_15\n",
        "The Hills Have Eyes"
       ]
      },
      {
       "output_type": "stream",
       "stream": "stdout",
       "text": [
        " http://www.imdb.com/title/tt0454841/?ref_=nm_flmg_act_16\n",
        "Santa's Slay"
       ]
      },
      {
       "output_type": "stream",
       "stream": "stdout",
       "text": [
        " http://www.imdb.com/title/tt0393685/?ref_=nm_flmg_act_17\n",
        "Brick"
       ]
      },
      {
       "output_type": "stream",
       "stream": "stdout",
       "text": [
        " http://www.imdb.com/title/tt0393109/?ref_=nm_flmg_act_18\n",
        "CSI: Miami"
       ]
      },
      {
       "output_type": "stream",
       "stream": "stdout",
       "text": [
        " http://www.imdb.com/title/tt0313043/?ref_=nm_flmg_act_19\n",
        "The Handler"
       ]
      },
      {
       "output_type": "stream",
       "stream": "stdout",
       "text": [
        " http://www.imdb.com/title/tt0366021/?ref_=nm_flmg_act_20\n",
        "NCIS"
       ]
      },
      {
       "output_type": "stream",
       "stream": "stdout",
       "text": [
        " http://www.imdb.com/title/tt0364845/?ref_=nm_flmg_act_21\n",
        "Carrie"
       ]
      },
      {
       "output_type": "stream",
       "stream": "stdout",
       "text": [
        " http://www.imdb.com/title/tt0319970/?ref_=nm_flmg_act_22\n",
        "Roswell"
       ]
      },
      {
       "output_type": "stream",
       "stream": "stdout",
       "text": [
        " http://www.imdb.com/title/tt0201391/?ref_=nm_flmg_act_23\n",
        "BeastMaster"
       ]
      },
      {
       "output_type": "stream",
       "stream": "stdout",
       "text": [
        " http://www.imdb.com/title/tt0215392/?ref_=nm_flmg_act_24\n",
        "----- Starting on:"
       ]
      },
      {
       "output_type": "stream",
       "stream": "stdout",
       "text": [
        " Michael Emerson -----\n",
        "Person of Interest"
       ]
      },
      {
       "output_type": "stream",
       "stream": "stdout",
       "text": [
        " http://www.imdb.com/title/tt1839578/?ref_=nm_flmg_act_1\n",
        "Batman: The Dark Knight Returns, Part 2"
       ]
      },
      {
       "output_type": "stream",
       "stream": "stdout",
       "text": [
        " http://www.imdb.com/title/tt2166834/?ref_=nm_flmg_act_2\n",
        "Batman: The Dark Knight Returns, Part 1"
       ]
      },
      {
       "output_type": "stream",
       "stream": "stdout",
       "text": [
        " http://www.imdb.com/title/tt2313197/?ref_=nm_flmg_act_3\n",
        "Living in the Age of Surveillance"
       ]
      },
      {
       "output_type": "stream",
       "stream": "stdout",
       "text": [
        " http://www.imdb.com/title/tt2754600/?ref_=nm_flmg_act_4\n",
        "Generator Rex"
       ]
      },
      {
       "output_type": "stream",
       "stream": "stdout",
       "text": [
        " http://www.imdb.com/title/tt1636691/?ref_=nm_flmg_act_5\n",
        "G.I. Joe: Renegades"
       ]
      },
      {
       "output_type": "stream",
       "stream": "stdout",
       "text": [
        " http://www.imdb.com/title/tt1705038/?ref_=nm_flmg_act_6\n",
        "Parenthood"
       ]
      },
      {
       "output_type": "stream",
       "stream": "stdout",
       "text": [
        " http://www.imdb.com/title/tt1416765/?ref_=nm_flmg_act_7\n",
        "God in America"
       ]
      },
      {
       "output_type": "stream",
       "stream": "stdout",
       "text": [
        " http://www.imdb.com/title/tt1651080/?ref_=nm_flmg_act_8\n",
        "Lost"
       ]
      },
      {
       "output_type": "stream",
       "stream": "stdout",
       "text": [
        " http://www.imdb.com/title/tt0411008/?ref_=nm_flmg_act_9\n",
        "Late Show with David Letterman"
       ]
      },
      {
       "output_type": "stream",
       "stream": "stdout",
       "text": [
        " http://www.imdb.com/title/tt0106053/?ref_=nm_flmg_act_10\n",
        "Goldstar, Ohio"
       ]
      },
      {
       "output_type": "stream",
       "stream": "stdout",
       "text": [
        " http://www.imdb.com/title/tt1540413/?ref_=nm_flmg_act_11\n",
        "Lost: Final Chapter"
       ]
      },
      {
       "output_type": "stream",
       "stream": "stdout",
       "text": [
        " http://www.imdb.com/title/tt1595411/?ref_=nm_flmg_act_12\n",
        "Lost: A Journey in Time"
       ]
      },
      {
       "output_type": "stream",
       "stream": "stdout",
       "text": [
        " http://www.imdb.com/title/tt1436430/?ref_=nm_flmg_act_13\n",
        "Ready? OK!"
       ]
      },
      {
       "output_type": "stream",
       "stream": "stdout",
       "text": [
        " http://www.imdb.com/title/tt1067084/?ref_=nm_flmg_act_14\n",
        "Lost: Via Domus"
       ]
      },
      {
       "output_type": "stream",
       "stream": "stdout",
       "text": [
        " http://www.imdb.com/title/tt0815191/?ref_=nm_flmg_act_15\n",
        "Lost: Past, Present & Future"
       ]
      },
      {
       "output_type": "stream",
       "stream": "stdout",
       "text": [
        " http://www.imdb.com/title/tt1172575/?ref_=nm_flmg_act_16\n",
        "Lost: Missing Pieces"
       ]
      },
      {
       "output_type": "stream",
       "stream": "stdout",
       "text": [
        " http://www.imdb.com/title/tt1150692/?ref_=nm_flmg_act_17\n",
        "Jumping Off Bridges"
       ]
      },
      {
       "output_type": "stream",
       "stream": "stdout",
       "text": [
        " http://www.imdb.com/title/tt0465509/?ref_=nm_flmg_act_18\n",
        "The Legend of Zorro"
       ]
      },
      {
       "output_type": "stream",
       "stream": "stdout",
       "text": [
        " http://www.imdb.com/title/tt0386140/?ref_=nm_flmg_act_19\n",
        "The Inside"
       ]
      },
      {
       "output_type": "stream",
       "stream": "stdout",
       "text": [
        " http://www.imdb.com/title/tt0412148/?ref_=nm_flmg_act_20\n",
        "29th and Gay"
       ]
      },
      {
       "output_type": "stream",
       "stream": "stdout",
       "text": [
        " http://www.imdb.com/title/tt0455299/?ref_=nm_flmg_act_21\n",
        "Straight-Jacket"
       ]
      },
      {
       "output_type": "stream",
       "stream": "stdout",
       "text": [
        " http://www.imdb.com/title/tt0367097/?ref_=nm_flmg_act_22\n",
        "Law & Order: Special Victims Unit"
       ]
      },
      {
       "output_type": "stream",
       "stream": "stdout",
       "text": [
        " http://www.imdb.com/title/tt0203259/?ref_=nm_flmg_act_23\n",
        "Saw"
       ]
      },
      {
       "output_type": "stream",
       "stream": "stdout",
       "text": [
        " http://www.imdb.com/title/tt0387564/?ref_=nm_flmg_act_24\n",
        "Whoopi"
       ]
      },
      {
       "output_type": "stream",
       "stream": "stdout",
       "text": [
        " http://www.imdb.com/title/tt0364902/?ref_=nm_flmg_act_25\n",
        "Skin"
       ]
      },
      {
       "output_type": "stream",
       "stream": "stdout",
       "text": [
        " http://www.imdb.com/title/tt0364008/?ref_=nm_flmg_act_26\n",
        "Without a Trace"
       ]
      },
      {
       "output_type": "stream",
       "stream": "stdout",
       "text": [
        " http://www.imdb.com/title/tt0321021/?ref_=nm_flmg_act_27\n",
        "The X-Files"
       ]
      },
      {
       "output_type": "stream",
       "stream": "stdout",
       "text": [
        " http://www.imdb.com/title/tt0106179/?ref_=nm_flmg_act_28\n",
        "Unfaithful"
       ]
      },
      {
       "output_type": "stream",
       "stream": "stdout",
       "text": [
        " http://www.imdb.com/title/tt0250797/?ref_=nm_flmg_act_29\n",
        "Law & Order: Criminal Intent"
       ]
      },
      {
       "output_type": "stream",
       "stream": "stdout",
       "text": [
        " http://www.imdb.com/title/tt0275140/?ref_=nm_flmg_act_30\n",
        "The Laramie Project"
       ]
      },
      {
       "output_type": "stream",
       "stream": "stdout",
       "text": [
        " http://www.imdb.com/title/tt0257850/?ref_=nm_flmg_act_31\n",
        "Sounds from a Town I Love"
       ]
      },
      {
       "output_type": "stream",
       "stream": "stdout",
       "text": [
        " http://www.imdb.com/title/tt0299150/?ref_=nm_flmg_act_32\n",
        "The Education of Max Bickford"
       ]
      },
      {
       "output_type": "stream",
       "stream": "stdout",
       "text": [
        " http://www.imdb.com/title/tt0285356/?ref_=nm_flmg_act_33\n",
        "The Practice"
       ]
      },
      {
       "output_type": "stream",
       "stream": "stdout",
       "text": [
        " http://www.imdb.com/title/tt0118437/?ref_=nm_flmg_act_34\n",
        "The District"
       ]
      },
      {
       "output_type": "stream",
       "stream": "stdout",
       "text": [
        " http://www.imdb.com/title/tt0247087/?ref_=nm_flmg_act_35\n",
        "Stark Raving Mad"
       ]
      },
      {
       "output_type": "stream",
       "stream": "stdout",
       "text": [
        " http://www.imdb.com/title/tt0210455/?ref_=nm_flmg_act_36\n",
        "For Love of the Game"
       ]
      },
      {
       "output_type": "stream",
       "stream": "stdout",
       "text": [
        " http://www.imdb.com/title/tt0126916/?ref_=nm_flmg_act_37\n",
        "I'll Take You There"
       ]
      },
      {
       "output_type": "stream",
       "stream": "stdout",
       "text": [
        " http://www.imdb.com/title/tt0210741/?ref_=nm_flmg_act_38\n",
        "Playing by Heart"
       ]
      },
      {
       "output_type": "stream",
       "stream": "stdout",
       "text": [
        " http://www.imdb.com/title/tt0145734/?ref_=nm_flmg_act_39\n",
        "Grace & Glorie"
       ]
      },
      {
       "output_type": "stream",
       "stream": "stdout",
       "text": [
        " http://www.imdb.com/title/tt0171351/?ref_=nm_flmg_act_40\n",
        "The Impostors"
       ]
      },
      {
       "output_type": "stream",
       "stream": "stdout",
       "text": [
        " http://www.imdb.com/title/tt0120823/?ref_=nm_flmg_act_41\n",
        "The Journey"
       ]
      },
      {
       "output_type": "stream",
       "stream": "stdout",
       "text": [
        " http://www.imdb.com/title/tt0119422/?ref_=nm_flmg_act_42\n",
        "Orpheus Descending"
       ]
      },
      {
       "output_type": "stream",
       "stream": "stdout",
       "text": [
        " http://www.imdb.com/title/tt0100306/?ref_=nm_flmg_act_43\n",
        "----- Starting on:"
       ]
      },
      {
       "output_type": "stream",
       "stream": "stdout",
       "text": [
        " Henry Ian Cusick -----\n",
        "Horse"
       ]
      },
      {
       "output_type": "stream",
       "stream": "stdout",
       "text": [
        " http://www.imdb.com/title/tt2404249/?ref_=nm_flmg_act_1\n",
        "When We Were Pirates"
       ]
      },
      {
       "output_type": "stream",
       "stream": "stdout",
       "text": [
        " http://www.imdb.com/title/tt1253872/?ref_=nm_flmg_act_2\n",
        "Let It Go"
       ]
      },
      {
       "output_type": "stream",
       "stream": "stdout",
       "text": [
        " http://www.imdb.com/title/tt3196830/?ref_=nm_flmg_act_3\n",
        "Everglades"
       ]
      },
      {
       "output_type": "stream",
       "stream": "stdout",
       "text": [
        " http://www.imdb.com/title/tt3760820/?ref_=nm_flmg_act_4\n",
        "The 100"
       ]
      },
      {
       "output_type": "stream",
       "stream": "stdout",
       "text": [
        " http://www.imdb.com/title/tt2661044/?ref_=nm_flmg_act_5\n",
        "10.0 Earthquake"
       ]
      },
      {
       "output_type": "stream",
       "stream": "stdout",
       "text": [
        " http://www.imdb.com/title/tt3488056/?ref_=nm_flmg_act_6\n",
        "Frank vs. God"
       ]
      },
      {
       "output_type": "stream",
       "stream": "stdout",
       "text": [
        " http://www.imdb.com/title/tt2259318/?ref_=nm_flmg_act_7\n",
        "dress"
       ]
      },
      {
       "output_type": "stream",
       "stream": "stdout",
       "text": [
        " http://www.imdb.com/title/tt3169026/?ref_=nm_flmg_act_8\n",
        "Hawaii Five-0"
       ]
      },
      {
       "output_type": "stream",
       "stream": "stdout",
       "text": [
        " http://www.imdb.com/title/tt1600194/?ref_=nm_flmg_act_9\n",
        "Not Another Happy Ending"
       ]
      },
      {
       "output_type": "stream",
       "stream": "stdout",
       "text": [
        " http://www.imdb.com/title/tt1808339/?ref_=nm_flmg_act_10\n",
        "Body of Proof"
       ]
      },
      {
       "output_type": "stream",
       "stream": "stdout",
       "text": [
        " http://www.imdb.com/title/tt1587669/?ref_=nm_flmg_act_11\n",
        "The Girl on the Train"
       ]
      },
      {
       "output_type": "stream",
       "stream": "stdout",
       "text": [
        " http://www.imdb.com/title/tt2387589/?ref_=nm_flmg_act_12\n",
        "CSI: Crime Scene Investigation"
       ]
      },
      {
       "output_type": "stream",
       "stream": "stdout",
       "text": [
        " http://www.imdb.com/title/tt0247082/?ref_=nm_flmg_act_13\n",
        "The Mentalist"
       ]
      },
      {
       "output_type": "stream",
       "stream": "stdout",
       "text": [
        " http://www.imdb.com/title/tt1196946/?ref_=nm_flmg_act_14\n",
        "Fringe"
       ]
      },
      {
       "output_type": "stream",
       "stream": "stdout",
       "text": [
        " http://www.imdb.com/title/tt1119644/?ref_=nm_flmg_act_15\n",
        "Scandal"
       ]
      },
      {
       "output_type": "stream",
       "stream": "stdout",
       "text": [
        " http://www.imdb.com/title/tt1837576/?ref_=nm_flmg_act_16\n",
        "Law & Order: Special Victims Unit"
       ]
      },
      {
       "output_type": "stream",
       "stream": "stdout",
       "text": [
        " http://www.imdb.com/title/tt0203259/?ref_=nm_flmg_act_17\n",
        "Lost"
       ]
      },
      {
       "output_type": "stream",
       "stream": "stdout",
       "text": [
        " http://www.imdb.com/title/tt0411008/?ref_=nm_flmg_act_18\n",
        "Nova"
       ]
      },
      {
       "output_type": "stream",
       "stream": "stdout",
       "text": [
        " http://www.imdb.com/title/tt0206501/?ref_=nm_flmg_act_19\n",
        "Dead Like Me: Life After Death"
       ]
      },
      {
       "output_type": "stream",
       "stream": "stdout",
       "text": [
        " http://www.imdb.com/title/tt1079444/?ref_=nm_flmg_act_20\n",
        "Lost: Via Domus"
       ]
      },
      {
       "output_type": "stream",
       "stream": "stdout",
       "text": [
        " http://www.imdb.com/title/tt0815191/?ref_=nm_flmg_act_21\n",
        "Hitman"
       ]
      },
      {
       "output_type": "stream",
       "stream": "stdout",
       "text": [
        " http://www.imdb.com/title/tt0465494/?ref_=nm_flmg_act_22\n",
        "After the Rain"
       ]
      },
      {
       "output_type": "stream",
       "stream": "stdout",
       "text": [
        " http://www.imdb.com/title/tt0835017/?ref_=nm_flmg_act_23\n",
        "24"
       ]
      },
      {
       "output_type": "stream",
       "stream": "stdout",
       "text": [
        " http://www.imdb.com/title/tt0285331/?ref_=nm_flmg_act_24\n",
        "9/Tenths"
       ]
      },
      {
       "output_type": "stream",
       "stream": "stdout",
       "text": [
        " http://www.imdb.com/title/tt0421539/?ref_=nm_flmg_act_25\n",
        "Half Light"
       ]
      },
      {
       "output_type": "stream",
       "stream": "stdout",
       "text": [
        " http://www.imdb.com/title/tt0412798/?ref_=nm_flmg_act_26\n",
        "Waking the Dead"
       ]
      },
      {
       "output_type": "stream",
       "stream": "stdout",
       "text": [
        " http://www.imdb.com/title/tt0259733/?ref_=nm_flmg_act_27\n",
        "Perfect Romance"
       ]
      },
      {
       "output_type": "stream",
       "stream": "stdout",
       "text": [
        " http://www.imdb.com/title/tt0373968/?ref_=nm_flmg_act_28\n",
        "Midsomer Murders"
       ]
      },
      {
       "output_type": "stream",
       "stream": "stdout",
       "text": [
        " http://www.imdb.com/title/tt0118401/?ref_=nm_flmg_act_29\n",
        "Carla"
       ]
      },
      {
       "output_type": "stream",
       "stream": "stdout",
       "text": [
        " http://www.imdb.com/title/tt0380248/?ref_=nm_flmg_act_30\n",
        "The Visual Bible: The Gospel of John"
       ]
      },
      {
       "output_type": "stream",
       "stream": "stdout",
       "text": [
        " http://www.imdb.com/title/tt0377992/?ref_=nm_flmg_act_31\n",
        "The Book Group"
       ]
      },
      {
       "output_type": "stream",
       "stream": "stdout",
       "text": [
        " http://www.imdb.com/title/tt0276650/?ref_=nm_flmg_act_32\n",
        "Adventure Inc."
       ]
      },
      {
       "output_type": "stream",
       "stream": "stdout",
       "text": [
        " http://www.imdb.com/title/tt0324681/?ref_=nm_flmg_act_33\n",
        "Happiness"
       ]
      },
      {
       "output_type": "stream",
       "stream": "stdout",
       "text": [
        " http://www.imdb.com/title/tt0280259/?ref_=nm_flmg_act_34\n",
        "Two Thousand Acres of Sky"
       ]
      },
      {
       "output_type": "stream",
       "stream": "stdout",
       "text": [
        " http://www.imdb.com/title/tt0287276/?ref_=nm_flmg_act_35\n",
        "The Dinosaur Hunters"
       ]
      },
      {
       "output_type": "stream",
       "stream": "stdout",
       "text": [
        " http://www.imdb.com/title/tt0359159/?ref_=nm_flmg_act_36\n",
        "Possession"
       ]
      },
      {
       "output_type": "stream",
       "stream": "stdout",
       "text": [
        " http://www.imdb.com/title/tt0256276/?ref_=nm_flmg_act_37\n",
        "Casualty"
       ]
      },
      {
       "output_type": "stream",
       "stream": "stdout",
       "text": [
        " http://www.imdb.com/title/tt0096555/?ref_=nm_flmg_act_38\n",
        "Murder Rooms: Mysteries of the Real Sherlock Holmes"
       ]
      },
      {
       "output_type": "stream",
       "stream": "stdout",
       "text": [
        " http://www.imdb.com/title/tt1333192/?ref_=nm_flmg_act_39\n",
        "Richard II"
       ]
      },
      {
       "output_type": "stream",
       "stream": "stdout",
       "text": [
        " http://www.imdb.com/title/tt0120016/?ref_=nm_flmg_act_40\n",
        "The Contract"
       ]
      },
      {
       "output_type": "stream",
       "stream": "stdout",
       "text": [
        " http://www.imdb.com/title/tt0403953/?ref_=nm_flmg_act_41\n",
        "Taggart"
       ]
      },
      {
       "output_type": "stream",
       "stream": "stdout",
       "text": [
        " http://www.imdb.com/title/tt0088621/?ref_=nm_flmg_act_42\n",
        "----- Starting on:"
       ]
      },
      {
       "output_type": "stream",
       "stream": "stdout",
       "text": [
        " Dominic Monaghan -----\n",
        "Deep Burial"
       ]
      },
      {
       "output_type": "stream",
       "stream": "stdout",
       "text": [
        " http://www.imdb.com/title/tt2449638/?ref_=nm_flmg_act_1\n",
        "The Hundred Code"
       ]
      },
      {
       "output_type": "stream",
       "stream": "stdout",
       "text": [
        " http://www.imdb.com/title/tt3515512/?ref_=nm_flmg_act_2\n",
        "Molly Moon: The Incredible Hypnotist"
       ]
      },
      {
       "output_type": "stream",
       "stream": "stdout",
       "text": [
        " http://www.imdb.com/title/tt2445178/?ref_=nm_flmg_act_3\n",
        "Childrens Hospital"
       ]
      },
      {
       "output_type": "stream",
       "stream": "stdout",
       "text": [
        " http://www.imdb.com/title/tt1325113/?ref_=nm_flmg_act_4\n",
        "Soldiers of Fortune"
       ]
      },
      {
       "output_type": "stream",
       "stream": "stdout",
       "text": [
        " http://www.imdb.com/title/tt1678051/?ref_=nm_flmg_act_5\n",
        "The Millionaire Tour"
       ]
      },
      {
       "output_type": "stream",
       "stream": "stdout",
       "text": [
        " http://www.imdb.com/title/tt1937388/?ref_=nm_flmg_act_6\n",
        "The Unknown"
       ]
      },
      {
       "output_type": "stream",
       "stream": "stdout",
       "text": [
        " http://www.imdb.com/title/tt2384747/?ref_=nm_flmg_act_7\n",
        "The Day"
       ]
      },
      {
       "output_type": "stream",
       "stream": "stdout",
       "text": [
        " http://www.imdb.com/title/tt1756799/?ref_=nm_flmg_act_8\n",
        "Goodnight Burbank"
       ]
      },
      {
       "output_type": "stream",
       "stream": "stdout",
       "text": [
        " http://www.imdb.com/title/tt1926560/?ref_=nm_flmg_act_9\n",
        "Ray Amsley's Self Defense Against Perverts"
       ]
      },
      {
       "output_type": "stream",
       "stream": "stdout",
       "text": [
        " http://www.imdb.com/title/tt2106609/?ref_=nm_flmg_act_10\n",
        "Detention"
       ]
      },
      {
       "output_type": "stream",
       "stream": "stdout",
       "text": [
        " http://www.imdb.com/title/tt1701990/?ref_=nm_flmg_act_11\n",
        "Eminem Featuring Rihanna: Love the Way You Lie"
       ]
      },
      {
       "output_type": "stream",
       "stream": "stdout",
       "text": [
        " http://www.imdb.com/title/tt2403905/?ref_=nm_flmg_act_12\n",
        "FlashForward"
       ]
      },
      {
       "output_type": "stream",
       "stream": "stdout",
       "text": [
        " http://www.imdb.com/title/tt1441135/?ref_=nm_flmg_act_13\n",
        "Lost"
       ]
      },
      {
       "output_type": "stream",
       "stream": "stdout",
       "text": [
        " http://www.imdb.com/title/tt0411008/?ref_=nm_flmg_act_14\n",
        "X-Men Origins: Wolverine"
       ]
      },
      {
       "output_type": "stream",
       "stream": "stdout",
       "text": [
        " http://www.imdb.com/title/tt0458525/?ref_=nm_flmg_act_15\n",
        "Chuck"
       ]
      },
      {
       "output_type": "stream",
       "stream": "stdout",
       "text": [
        " http://www.imdb.com/title/tt0934814/?ref_=nm_flmg_act_16\n",
        "Devil's Bible"
       ]
      },
      {
       "output_type": "stream",
       "stream": "stdout",
       "text": [
        " http://www.imdb.com/title/tt1368070/?ref_=nm_flmg_act_17\n",
        "I Sell the Dead"
       ]
      },
      {
       "output_type": "stream",
       "stream": "stdout",
       "text": [
        " http://www.imdb.com/title/tt0902290/?ref_=nm_flmg_act_18\n",
        "Lord of the Rings: Battle for Middle Earth II - Rise of the Witch King"
       ]
      },
      {
       "output_type": "stream",
       "stream": "stdout",
       "text": [
        " http://www.imdb.com/title/tt1058040/?ref_=nm_flmg_act_19\n",
        "The Late Late Show with Craig Ferguson"
       ]
      },
      {
       "output_type": "stream",
       "stream": "stdout",
       "text": [
        " http://www.imdb.com/title/tt0437729/?ref_=nm_flmg_act_20\n",
        "The Lord of the Rings: The Battle for Middle-Earth II"
       ]
      },
      {
       "output_type": "stream",
       "stream": "stdout",
       "text": [
        " http://www.imdb.com/title/tt0760172/?ref_=nm_flmg_act_21\n",
        "Shooting Livien"
       ]
      },
      {
       "output_type": "stream",
       "stream": "stdout",
       "text": [
        " http://www.imdb.com/title/tt0371212/?ref_=nm_flmg_act_22\n",
        "The Lord of the Rings: The Battle for Middle-Earth"
       ]
      },
      {
       "output_type": "stream",
       "stream": "stdout",
       "text": [
        " http://www.imdb.com/title/tt0412935/?ref_=nm_flmg_act_23\n",
        "The Purifiers"
       ]
      },
      {
       "output_type": "stream",
       "stream": "stdout",
       "text": [
        " http://www.imdb.com/title/tt0371902/?ref_=nm_flmg_act_24\n",
        "Spivs"
       ]
      },
      {
       "output_type": "stream",
       "stream": "stdout",
       "text": [
        " http://www.imdb.com/title/tt0352864/?ref_=nm_flmg_act_25\n",
        "The Lord of the Rings: The Return of the King"
       ]
      },
      {
       "output_type": "stream",
       "stream": "stdout",
       "text": [
        " http://www.imdb.com/title/tt0167260/?ref_=nm_flmg_act_26\n",
        "The Lord of the Rings: The Return of the King"
       ]
      },
      {
       "output_type": "stream",
       "stream": "stdout",
       "text": [
        " http://www.imdb.com/title/tt0387360/?ref_=nm_flmg_act_27\n",
        "An Insomniac's Nightmare"
       ]
      },
      {
       "output_type": "stream",
       "stream": "stdout",
       "text": [
        " http://www.imdb.com/title/tt0335179/?ref_=nm_flmg_act_28\n",
        "The Lord of the Rings: The Two Towers"
       ]
      },
      {
       "output_type": "stream",
       "stream": "stdout",
       "text": [
        " http://www.imdb.com/title/tt0167261/?ref_=nm_flmg_act_29\n",
        "The Lord of the Rings: The Fellowship of the Ring"
       ]
      },
      {
       "output_type": "stream",
       "stream": "stdout",
       "text": [
        " http://www.imdb.com/title/tt0120737/?ref_=nm_flmg_act_30\n",
        "Monsignor Renard"
       ]
      },
      {
       "output_type": "stream",
       "stream": "stdout",
       "text": [
        " http://www.imdb.com/title/tt0234265/?ref_=nm_flmg_act_31\n",
        "This Is Personal: The Hunt for the Yorkshire Ripper"
       ]
      },
      {
       "output_type": "stream",
       "stream": "stdout",
       "text": [
        " http://www.imdb.com/title/tt0233115/?ref_=nm_flmg_act_32\n",
        "Hetty Wainthropp Investigates"
       ]
      },
      {
       "output_type": "stream",
       "stream": "stdout",
       "text": [
        " http://www.imdb.com/title/tt0127376/?ref_=nm_flmg_act_33\n",
        "Hostile Waters"
       ]
      },
      {
       "output_type": "stream",
       "stream": "stdout",
       "text": [
        " http://www.imdb.com/title/tt0119320/?ref_=nm_flmg_act_34\n",
        "----- Starting on:"
       ]
      },
      {
       "output_type": "stream",
       "stream": "stdout",
       "text": [
        " Harold Perrineau -----\n",
        "The Best Man Wedding"
       ]
      },
      {
       "output_type": "stream",
       "stream": "stdout",
       "text": [
        " http://www.imdb.com/title/tt3345056/?ref_=nm_flmg_act_1\n",
        "The Dancing Bull"
       ]
      },
      {
       "output_type": "stream",
       "stream": "stdout",
       "text": [
        " http://www.imdb.com/title/tt3558616/?ref_=nm_flmg_act_2\n",
        "When We Were Pirates"
       ]
      },
      {
       "output_type": "stream",
       "stream": "stdout",
       "text": [
        " http://www.imdb.com/title/tt1253872/?ref_=nm_flmg_act_3\n",
        "Without Ward"
       ]
      },
      {
       "output_type": "stream",
       "stream": "stdout",
       "text": [
        " http://www.imdb.com/title/tt2338088/?ref_=nm_flmg_act_4\n",
        "Meet Me at a Funeral"
       ]
      },
      {
       "output_type": "stream",
       "stream": "stdout",
       "text": [
        " http://www.imdb.com/title/tt3585940/?ref_=nm_flmg_act_5\n",
        "The Championship Rounds"
       ]
      },
      {
       "output_type": "stream",
       "stream": "stdout",
       "text": [
        " http://www.imdb.com/title/tt2971522/?ref_=nm_flmg_act_6\n",
        "Constantine"
       ]
      },
      {
       "output_type": "stream",
       "stream": "stdout",
       "text": [
        " http://www.imdb.com/title/tt3489184/?ref_=nm_flmg_act_7\n",
        "Newsreaders"
       ]
      },
      {
       "output_type": "stream",
       "stream": "stdout",
       "text": [
        " http://www.imdb.com/title/tt2166772/?ref_=nm_flmg_act_8\n",
        "Z Nation"
       ]
      },
      {
       "output_type": "stream",
       "stream": "stdout",
       "text": [
        " http://www.imdb.com/title/tt3843168/?ref_=nm_flmg_act_9\n",
        "Sabotage"
       ]
      },
      {
       "output_type": "stream",
       "stream": "stdout",
       "text": [
        " http://www.imdb.com/title/tt1742334/?ref_=nm_flmg_act_10\n",
        "Growing Up Fisher"
       ]
      },
      {
       "output_type": "stream",
       "stream": "stdout",
       "text": [
        " http://www.imdb.com/title/tt2698984/?ref_=nm_flmg_act_11\n",
        "HitRECord on TV"
       ]
      },
      {
       "output_type": "stream",
       "stream": "stdout",
       "text": [
        " http://www.imdb.com/title/tt3453566/?ref_=nm_flmg_act_12\n",
        "The Best Man Holiday"
       ]
      },
      {
       "output_type": "stream",
       "stream": "stdout",
       "text": [
        " http://www.imdb.com/title/tt2083355/?ref_=nm_flmg_act_13\n",
        "Sexy Evil Genius"
       ]
      },
      {
       "output_type": "stream",
       "stream": "stdout",
       "text": [
        " http://www.imdb.com/title/tt1801096/?ref_=nm_flmg_act_14\n",
        "Go for Sisters"
       ]
      },
      {
       "output_type": "stream",
       "stream": "stdout",
       "text": [
        " http://www.imdb.com/title/tt2247432/?ref_=nm_flmg_act_15\n",
        "Snitch"
       ]
      },
      {
       "output_type": "stream",
       "stream": "stdout",
       "text": [
        " http://www.imdb.com/title/tt0882977/?ref_=nm_flmg_act_16\n",
        "Law & Order: Special Victims Unit"
       ]
      },
      {
       "output_type": "stream",
       "stream": "stdout",
       "text": [
        " http://www.imdb.com/title/tt0203259/?ref_=nm_flmg_act_17\n",
        "Wedding Band"
       ]
      },
      {
       "output_type": "stream",
       "stream": "stdout",
       "text": [
        " http://www.imdb.com/title/tt1798701/?ref_=nm_flmg_act_18\n",
        "Zero Dark Thirty"
       ]
      },
      {
       "output_type": "stream",
       "stream": "stdout",
       "text": [
        " http://www.imdb.com/title/tt1790885/?ref_=nm_flmg_act_19\n",
        "Sons of Anarchy"
       ]
      },
      {
       "output_type": "stream",
       "stream": "stdout",
       "text": [
        " http://www.imdb.com/title/tt1124373/?ref_=nm_flmg_act_20\n",
        "Taking the Edge Off"
       ]
      },
      {
       "output_type": "stream",
       "stream": "stdout",
       "text": [
        " http://www.imdb.com/title/tt2514442/?ref_=nm_flmg_act_21\n",
        "Georgia"
       ]
      },
      {
       "output_type": "stream",
       "stream": "stdout",
       "text": [
        " http://www.imdb.com/title/tt2380704/?ref_=nm_flmg_act_22\n",
        "Phineas and Ferb"
       ]
      },
      {
       "output_type": "stream",
       "stream": "stdout",
       "text": [
        " http://www.imdb.com/title/tt0852863/?ref_=nm_flmg_act_23\n",
        "Sunset Stories"
       ]
      },
      {
       "output_type": "stream",
       "stream": "stdout",
       "text": [
        " http://www.imdb.com/title/tt1695991/?ref_=nm_flmg_act_24\n",
        "Transit"
       ]
      },
      {
       "output_type": "stream",
       "stream": "stdout",
       "text": [
        " http://www.imdb.com/title/tt1059836/?ref_=nm_flmg_act_25\n",
        "Blade"
       ]
      },
      {
       "output_type": "stream",
       "stream": "stdout",
       "text": [
        " http://www.imdb.com/title/tt1988235/?ref_=nm_flmg_act_26\n",
        "Seeking Justice"
       ]
      },
      {
       "output_type": "stream",
       "stream": "stdout",
       "text": [
        " http://www.imdb.com/title/tt1214962/?ref_=nm_flmg_act_27\n",
        "The Whole Truth"
       ]
      },
      {
       "output_type": "stream",
       "stream": "stdout",
       "text": [
        " http://www.imdb.com/title/tt1610515/?ref_=nm_flmg_act_28\n",
        "30 Days of Night: Dark Days"
       ]
      },
      {
       "output_type": "stream",
       "stream": "stdout",
       "text": [
        " http://www.imdb.com/title/tt1320304/?ref_=nm_flmg_act_29\n",
        "Case 219"
       ]
      },
      {
       "output_type": "stream",
       "stream": "stdout",
       "text": [
        " http://www.imdb.com/title/tt1314169/?ref_=nm_flmg_act_30\n",
        "CSI: NY"
       ]
      },
      {
       "output_type": "stream",
       "stream": "stdout",
       "text": [
        " http://www.imdb.com/title/tt0395843/?ref_=nm_flmg_act_31\n",
        "Lost"
       ]
      },
      {
       "output_type": "stream",
       "stream": "stdout",
       "text": [
        " http://www.imdb.com/title/tt0411008/?ref_=nm_flmg_act_32\n",
        "The Killing Jar"
       ]
      },
      {
       "output_type": "stream",
       "stream": "stdout",
       "text": [
        " http://www.imdb.com/title/tt1270296/?ref_=nm_flmg_act_33\n",
        "The Unusuals"
       ]
      },
      {
       "output_type": "stream",
       "stream": "stdout",
       "text": [
        " http://www.imdb.com/title/tt1240976/?ref_=nm_flmg_act_34\n",
        "Felon"
       ]
      },
      {
       "output_type": "stream",
       "stream": "stdout",
       "text": [
        " http://www.imdb.com/title/tt1117385/?ref_=nm_flmg_act_35\n",
        "Your Name Here"
       ]
      },
      {
       "output_type": "stream",
       "stream": "stdout",
       "text": [
        " http://www.imdb.com/title/tt0837802/?ref_=nm_flmg_act_36\n",
        "Ball Don't Lie"
       ]
      },
      {
       "output_type": "stream",
       "stream": "stdout",
       "text": [
        " http://www.imdb.com/title/tt0906727/?ref_=nm_flmg_act_37\n",
        "Gardens of the Night"
       ]
      },
      {
       "output_type": "stream",
       "stream": "stdout",
       "text": [
        " http://www.imdb.com/title/tt0833960/?ref_=nm_flmg_act_38\n",
        "Lost: Missing Pieces"
       ]
      },
      {
       "output_type": "stream",
       "stream": "stdout",
       "text": [
        " http://www.imdb.com/title/tt1150692/?ref_=nm_flmg_act_39\n",
        "Demons"
       ]
      },
      {
       "output_type": "stream",
       "stream": "stdout",
       "text": [
        " http://www.imdb.com/title/tt0844487/?ref_=nm_flmg_act_40\n",
        "CSI: Crime Scene Investigation"
       ]
      },
      {
       "output_type": "stream",
       "stream": "stdout",
       "text": [
        " http://www.imdb.com/title/tt0247082/?ref_=nm_flmg_act_41\n",
        "Garfield Gets Real"
       ]
      },
      {
       "output_type": "stream",
       "stream": "stdout",
       "text": [
        " http://www.imdb.com/title/tt1059793/?ref_=nm_flmg_act_42\n",
        "28 Weeks Later"
       ]
      },
      {
       "output_type": "stream",
       "stream": "stdout",
       "text": [
        " http://www.imdb.com/title/tt0463854/?ref_=nm_flmg_act_43\n",
        "The Matrix Online"
       ]
      },
      {
       "output_type": "stream",
       "stream": "stdout",
       "text": [
        " http://www.imdb.com/title/tt0390244/?ref_=nm_flmg_act_44\n",
        "The Matrix Revolutions"
       ]
      },
      {
       "output_type": "stream",
       "stream": "stdout",
       "text": [
        " http://www.imdb.com/title/tt0242653/?ref_=nm_flmg_act_45\n",
        "Dead Like Me"
       ]
      },
      {
       "output_type": "stream",
       "stream": "stdout",
       "text": [
        " http://www.imdb.com/title/tt0348913/?ref_=nm_flmg_act_46\n",
        "Spider-Man"
       ]
      },
      {
       "output_type": "stream",
       "stream": "stdout",
       "text": [
        " http://www.imdb.com/title/tt0290983/?ref_=nm_flmg_act_47\n",
        "Enter the Matrix"
       ]
      },
      {
       "output_type": "stream",
       "stream": "stdout",
       "text": [
        " http://www.imdb.com/title/tt0277828/?ref_=nm_flmg_act_48\n",
        "The Matrix Reloaded"
       ]
      },
      {
       "output_type": "stream",
       "stream": "stdout",
       "text": [
        " http://www.imdb.com/title/tt0234215/?ref_=nm_flmg_act_49\n",
        "Oz"
       ]
      },
      {
       "output_type": "stream",
       "stream": "stdout",
       "text": [
        " http://www.imdb.com/title/tt0118421/?ref_=nm_flmg_act_50\n",
        "On_Line"
       ]
      },
      {
       "output_type": "stream",
       "stream": "stdout",
       "text": [
        " http://www.imdb.com/title/tt0302889/?ref_=nm_flmg_act_51\n",
        "A Day in Black and White"
       ]
      },
      {
       "output_type": "stream",
       "stream": "stdout",
       "text": [
        " http://www.imdb.com/title/tt0184384/?ref_=nm_flmg_act_52\n",
        "Prison Song"
       ]
      },
      {
       "output_type": "stream",
       "stream": "stdout",
       "text": [
        " http://www.imdb.com/title/tt0216982/?ref_=nm_flmg_act_53\n",
        "Someone Like You..."
       ]
      },
      {
       "output_type": "stream",
       "stream": "stdout",
       "text": [
        " http://www.imdb.com/title/tt0244970/?ref_=nm_flmg_act_54\n",
        "Overnight Sensation"
       ]
      },
      {
       "output_type": "stream",
       "stream": "stdout",
       "text": [
        " http://www.imdb.com/title/tt0203047/?ref_=nm_flmg_act_55\n",
        "Woman on Top"
       ]
      },
      {
       "output_type": "stream",
       "stream": "stdout",
       "text": [
        " http://www.imdb.com/title/tt0206420/?ref_=nm_flmg_act_56\n",
        "Saturday Night Live"
       ]
      },
      {
       "output_type": "stream",
       "stream": "stdout",
       "text": [
        " http://www.imdb.com/title/tt0072562/?ref_=nm_flmg_act_57\n",
        "The Best Man"
       ]
      },
      {
       "output_type": "stream",
       "stream": "stdout",
       "text": [
        " http://www.imdb.com/title/tt0168501/?ref_=nm_flmg_act_58\n",
        "Macbeth in Manhattan"
       ]
      },
      {
       "output_type": "stream",
       "stream": "stdout",
       "text": [
        " http://www.imdb.com/title/tt0159542/?ref_=nm_flmg_act_59\n",
        "The Tempest"
       ]
      },
      {
       "output_type": "stream",
       "stream": "stdout",
       "text": [
        " http://www.imdb.com/title/tt0178928/?ref_=nm_flmg_act_60\n",
        "Lulu on the Bridge"
       ]
      },
      {
       "output_type": "stream",
       "stream": "stdout",
       "text": [
        " http://www.imdb.com/title/tt0125879/?ref_=nm_flmg_act_61\n",
        "Come to"
       ]
      },
      {
       "output_type": "stream",
       "stream": "stdout",
       "text": [
        " http://www.imdb.com/title/tt0362514/?ref_=nm_flmg_act_62\n",
        "Living Single"
       ]
      },
      {
       "output_type": "stream",
       "stream": "stdout",
       "text": [
        " http://www.imdb.com/title/tt0106056/?ref_=nm_flmg_act_63\n",
        "ER"
       ]
      },
      {
       "output_type": "stream",
       "stream": "stdout",
       "text": [
        " http://www.imdb.com/title/tt0108757/?ref_=nm_flmg_act_64\n",
        "The Edge"
       ]
      },
      {
       "output_type": "stream",
       "stream": "stdout",
       "text": [
        " http://www.imdb.com/title/tt0119051/?ref_=nm_flmg_act_65\n",
        "Romeo + Juliet"
       ]
      },
      {
       "output_type": "stream",
       "stream": "stdout",
       "text": [
        " http://www.imdb.com/title/tt0117509/?ref_=nm_flmg_act_66\n",
        "Blood and Wine"
       ]
      },
      {
       "output_type": "stream",
       "stream": "stdout",
       "text": [
        " http://www.imdb.com/title/tt0115710/?ref_=nm_flmg_act_67\n",
        "New York News"
       ]
      },
      {
       "output_type": "stream",
       "stream": "stdout",
       "text": [
        " http://www.imdb.com/title/tt0112094/?ref_=nm_flmg_act_68\n",
        "Flirt"
       ]
      },
      {
       "output_type": "stream",
       "stream": "stdout",
       "text": [
        " http://www.imdb.com/title/tt0113080/?ref_=nm_flmg_act_69\n",
        "Smoke"
       ]
      },
      {
       "output_type": "stream",
       "stream": "stdout",
       "text": [
        " http://www.imdb.com/title/tt0114478/?ref_=nm_flmg_act_70\n",
        "The Cosby Mysteries"
       ]
      },
      {
       "output_type": "stream",
       "stream": "stdout",
       "text": [
        " http://www.imdb.com/title/tt0108733/?ref_=nm_flmg_act_71\n",
        "Law & Order"
       ]
      },
      {
       "output_type": "stream",
       "stream": "stdout",
       "text": [
        " http://www.imdb.com/title/tt0098844/?ref_=nm_flmg_act_72\n",
        "I'll Fly Away"
       ]
      },
      {
       "output_type": "stream",
       "stream": "stdout",
       "text": [
        " http://www.imdb.com/title/tt0101124/?ref_=nm_flmg_act_73\n",
        "The Days and Nights of Molly Dodd"
       ]
      },
      {
       "output_type": "stream",
       "stream": "stdout",
       "text": [
        " http://www.imdb.com/title/tt0092336/?ref_=nm_flmg_act_74\n",
        "King of New York"
       ]
      },
      {
       "output_type": "stream",
       "stream": "stdout",
       "text": [
        " http://www.imdb.com/title/tt0099939/?ref_=nm_flmg_act_75\n",
        "CBS Schoolbreak Special"
       ]
      },
      {
       "output_type": "stream",
       "stream": "stdout",
       "text": [
        " http://www.imdb.com/title/tt0985040/?ref_=nm_flmg_act_76\n",
        "The Cosby Show"
       ]
      },
      {
       "output_type": "stream",
       "stream": "stdout",
       "text": [
        " http://www.imdb.com/title/tt0086687/?ref_=nm_flmg_act_77\n",
        "Shakedown"
       ]
      },
      {
       "output_type": "stream",
       "stream": "stdout",
       "text": [
        " http://www.imdb.com/title/tt0096087/?ref_=nm_flmg_act_78\n",
        "Fame"
       ]
      },
      {
       "output_type": "stream",
       "stream": "stdout",
       "text": [
        " http://www.imdb.com/title/tt0083412/?ref_=nm_flmg_act_79\n",
        "----- Starting on:"
       ]
      },
      {
       "output_type": "stream",
       "stream": "stdout",
       "text": [
        " Elizabeth Mitchell -----\n",
        "Once Upon a Time"
       ]
      },
      {
       "output_type": "stream",
       "stream": "stdout",
       "text": [
        " http://www.imdb.com/title/tt1843230/?ref_=nm_flmg_act_1\n",
        "Revolution"
       ]
      },
      {
       "output_type": "stream",
       "stream": "stdout",
       "text": [
        " http://www.imdb.com/title/tt2070791/?ref_=nm_flmg_act_2\n",
        "Kristin's Christmas Past"
       ]
      },
      {
       "output_type": "stream",
       "stream": "stdout",
       "text": [
        " http://www.imdb.com/title/tt3043594/?ref_=nm_flmg_act_3\n",
        "Prosecuting Casey Anthony"
       ]
      },
      {
       "output_type": "stream",
       "stream": "stdout",
       "text": [
        " http://www.imdb.com/title/tt2216088/?ref_=nm_flmg_act_4\n",
        "Answers to Nothing"
       ]
      },
      {
       "output_type": "stream",
       "stream": "stdout",
       "text": [
        " http://www.imdb.com/title/tt1523939/?ref_=nm_flmg_act_5\n",
        "Law & Order: Special Victims Unit"
       ]
      },
      {
       "output_type": "stream",
       "stream": "stdout",
       "text": [
        " http://www.imdb.com/title/tt0203259/?ref_=nm_flmg_act_6\n",
        "V"
       ]
      },
      {
       "output_type": "stream",
       "stream": "stdout",
       "text": [
        " http://www.imdb.com/title/tt1307824/?ref_=nm_flmg_act_7\n",
        "CollegeHumor Originals"
       ]
      },
      {
       "output_type": "stream",
       "stream": "stdout",
       "text": [
        " http://www.imdb.com/title/tt2234701/?ref_=nm_flmg_act_8\n",
        "Lost"
       ]
      },
      {
       "output_type": "stream",
       "stream": "stdout",
       "text": [
        " http://www.imdb.com/title/tt0411008/?ref_=nm_flmg_act_9\n",
        "Lost: Missing Pieces"
       ]
      },
      {
       "output_type": "stream",
       "stream": "stdout",
       "text": [
        " http://www.imdb.com/title/tt1150692/?ref_=nm_flmg_act_10\n",
        "The Santa Clause 3: The Escape Clause"
       ]
      },
      {
       "output_type": "stream",
       "stream": "stdout",
       "text": [
        " http://www.imdb.com/title/tt0452681/?ref_=nm_flmg_act_11\n",
        "Running Scared"
       ]
      },
      {
       "output_type": "stream",
       "stream": "stdout",
       "text": [
        " http://www.imdb.com/title/tt0404390/?ref_=nm_flmg_act_12\n",
        "Haskett's Chance"
       ]
      },
      {
       "output_type": "stream",
       "stream": "stdout",
       "text": [
        " http://www.imdb.com/title/tt0758795/?ref_=nm_flmg_act_13\n",
        "House M.D."
       ]
      },
      {
       "output_type": "stream",
       "stream": "stdout",
       "text": [
        " http://www.imdb.com/title/tt0412142/?ref_=nm_flmg_act_14\n",
        "3: The Dale Earnhardt Story"
       ]
      },
      {
       "output_type": "stream",
       "stream": "stdout",
       "text": [
        " http://www.imdb.com/title/tt0401088/?ref_=nm_flmg_act_15\n",
        "Boston Legal"
       ]
      },
      {
       "output_type": "stream",
       "stream": "stdout",
       "text": [
        " http://www.imdb.com/title/tt0402711/?ref_=nm_flmg_act_16\n",
        "Everwood"
       ]
      },
      {
       "output_type": "stream",
       "stream": "stdout",
       "text": [
        " http://www.imdb.com/title/tt0318883/?ref_=nm_flmg_act_17\n",
        "Gramercy Park"
       ]
      },
      {
       "output_type": "stream",
       "stream": "stdout",
       "text": [
        " http://www.imdb.com/title/tt0933741/?ref_=nm_flmg_act_18\n",
        "CSI: Crime Scene Investigation"
       ]
      },
      {
       "output_type": "stream",
       "stream": "stdout",
       "text": [
        " http://www.imdb.com/title/tt0247082/?ref_=nm_flmg_act_19\n",
        "The Lyon's Den"
       ]
      },
      {
       "output_type": "stream",
       "stream": "stdout",
       "text": [
        " http://www.imdb.com/title/tt0380124/?ref_=nm_flmg_act_20\n",
        "The Santa Clause 2"
       ]
      },
      {
       "output_type": "stream",
       "stream": "stdout",
       "text": [
        " http://www.imdb.com/title/tt0304669/?ref_=nm_flmg_act_21\n",
        "Man and Boy"
       ]
      },
      {
       "output_type": "stream",
       "stream": "stdout",
       "text": [
        " http://www.imdb.com/title/tt0304375/?ref_=nm_flmg_act_22\n",
        "Spin City"
       ]
      },
      {
       "output_type": "stream",
       "stream": "stdout",
       "text": [
        " http://www.imdb.com/title/tt0115369/?ref_=nm_flmg_act_23\n",
        "Double Bang"
       ]
      },
      {
       "output_type": "stream",
       "stream": "stdout",
       "text": [
        " http://www.imdb.com/title/tt0251057/?ref_=nm_flmg_act_24\n",
        "The Beast"
       ]
      },
      {
       "output_type": "stream",
       "stream": "stdout",
       "text": [
        " http://www.imdb.com/title/tt0268175/?ref_=nm_flmg_act_25\n",
        "ER"
       ]
      },
      {
       "output_type": "stream",
       "stream": "stdout",
       "text": [
        " http://www.imdb.com/title/tt0108757/?ref_=nm_flmg_act_26\n",
        "Hollywood Palms"
       ]
      },
      {
       "output_type": "stream",
       "stream": "stdout",
       "text": [
        " http://www.imdb.com/title/tt0170008/?ref_=nm_flmg_act_27\n",
        "Time of Your Life"
       ]
      },
      {
       "output_type": "stream",
       "stream": "stdout",
       "text": [
        " http://www.imdb.com/title/tt0178165/?ref_=nm_flmg_act_28\n",
        "The Linda McCartney Story"
       ]
      },
      {
       "output_type": "stream",
       "stream": "stdout",
       "text": [
        " http://www.imdb.com/title/tt0240683/?ref_=nm_flmg_act_29\n",
        "Nurse Betty"
       ]
      },
      {
       "output_type": "stream",
       "stream": "stdout",
       "text": [
        " http://www.imdb.com/title/tt0171580/?ref_=nm_flmg_act_30\n",
        "Frequency"
       ]
      },
      {
       "output_type": "stream",
       "stream": "stdout",
       "text": [
        " http://www.imdb.com/title/tt0186151/?ref_=nm_flmg_act_31\n",
        "Molly"
       ]
      },
      {
       "output_type": "stream",
       "stream": "stdout",
       "text": [
        " http://www.imdb.com/title/tt0143746/?ref_=nm_flmg_act_32\n",
        "Significant Others"
       ]
      },
      {
       "output_type": "stream",
       "stream": "stdout",
       "text": [
        " http://www.imdb.com/title/tt0143064/?ref_=nm_flmg_act_33\n",
        "Gia"
       ]
      },
      {
       "output_type": "stream",
       "stream": "stdout",
       "text": [
        " http://www.imdb.com/title/tt0123865/?ref_=nm_flmg_act_34\n",
        "Comfort, Texas"
       ]
      },
      {
       "output_type": "stream",
       "stream": "stdout",
       "text": [
        " http://www.imdb.com/title/tt0118875/?ref_=nm_flmg_act_35\n",
        "JAG"
       ]
      },
      {
       "output_type": "stream",
       "stream": "stdout",
       "text": [
        " http://www.imdb.com/title/tt0112022/?ref_=nm_flmg_act_36\n",
        "The Sentinel"
       ]
      },
      {
       "output_type": "stream",
       "stream": "stdout",
       "text": [
        " http://www.imdb.com/title/tt0115351/?ref_=nm_flmg_act_37\n",
        "L.A. Firefighters"
       ]
      },
      {
       "output_type": "stream",
       "stream": "stdout",
       "text": [
        " http://www.imdb.com/title/tt0115236/?ref_=nm_flmg_act_38\n",
        "Dangerous Curves"
       ]
      },
      {
       "output_type": "stream",
       "stream": "stdout",
       "text": [
        " http://www.imdb.com/title/tt0103395/?ref_=nm_flmg_act_39\n",
        "Loving"
       ]
      },
      {
       "output_type": "stream",
       "stream": "stdout",
       "text": [
        " http://www.imdb.com/title/tt0085049/?ref_=nm_flmg_act_40\n",
        "----- Starting on:"
       ]
      },
      {
       "output_type": "stream",
       "stream": "stdout",
       "text": [
        " Ken Leung -----\n",
        "The Night Shift"
       ]
      },
      {
       "output_type": "stream",
       "stream": "stdout",
       "text": [
        " http://www.imdb.com/title/tt2477230/?ref_=nm_flmg_act_1\n",
        "Zero Hour"
       ]
      },
      {
       "output_type": "stream",
       "stream": "stdout",
       "text": [
        " http://www.imdb.com/title/tt2215797/?ref_=nm_flmg_act_2\n",
        "Person of Interest"
       ]
      },
      {
       "output_type": "stream",
       "stream": "stdout",
       "text": [
        " http://www.imdb.com/title/tt1839578/?ref_=nm_flmg_act_3\n",
        "Deception"
       ]
      },
      {
       "output_type": "stream",
       "stream": "stdout",
       "text": [
        " http://www.imdb.com/title/tt2245029/?ref_=nm_flmg_act_4\n",
        "Susan 313"
       ]
      },
      {
       "output_type": "stream",
       "stream": "stdout",
       "text": [
        " http://www.imdb.com/title/tt2221859/?ref_=nm_flmg_act_5\n",
        "Big Mike"
       ]
      },
      {
       "output_type": "stream",
       "stream": "stdout",
       "text": [
        " http://www.imdb.com/title/tt1828952/?ref_=nm_flmg_act_6\n",
        "The Good Wife"
       ]
      },
      {
       "output_type": "stream",
       "stream": "stdout",
       "text": [
        " http://www.imdb.com/title/tt1442462/?ref_=nm_flmg_act_7\n",
        "Lost"
       ]
      },
      {
       "output_type": "stream",
       "stream": "stdout",
       "text": [
        " http://www.imdb.com/title/tt0411008/?ref_=nm_flmg_act_8\n",
        "Works of Art"
       ]
      },
      {
       "output_type": "stream",
       "stream": "stdout",
       "text": [
        " http://www.imdb.com/title/tt1505790/?ref_=nm_flmg_act_9\n",
        "Year of the Fish"
       ]
      },
      {
       "output_type": "stream",
       "stream": "stdout",
       "text": [
        " http://www.imdb.com/title/tt0872236/?ref_=nm_flmg_act_10\n",
        "The Sopranos"
       ]
      },
      {
       "output_type": "stream",
       "stream": "stdout",
       "text": [
        " http://www.imdb.com/title/tt0141842/?ref_=nm_flmg_act_11\n",
        "Shanghai Kiss"
       ]
      },
      {
       "output_type": "stream",
       "stream": "stdout",
       "text": [
        " http://www.imdb.com/title/tt0469184/?ref_=nm_flmg_act_12\n",
        "X-Men: The Last Stand"
       ]
      },
      {
       "output_type": "stream",
       "stream": "stdout",
       "text": [
        " http://www.imdb.com/title/tt0376994/?ref_=nm_flmg_act_13\n",
        "Falling for Grace"
       ]
      },
      {
       "output_type": "stream",
       "stream": "stdout",
       "text": [
        " http://www.imdb.com/title/tt0409301/?ref_=nm_flmg_act_14\n",
        "Inside Man"
       ]
      },
      {
       "output_type": "stream",
       "stream": "stdout",
       "text": [
        " http://www.imdb.com/title/tt0454848/?ref_=nm_flmg_act_15\n",
        "Hate"
       ]
      },
      {
       "output_type": "stream",
       "stream": "stdout",
       "text": [
        " http://www.imdb.com/title/tt0775478/?ref_=nm_flmg_act_16\n",
        "The Squid and the Whale"
       ]
      },
      {
       "output_type": "stream",
       "stream": "stdout",
       "text": [
        " http://www.imdb.com/title/tt0367089/?ref_=nm_flmg_act_17\n",
        "Sucker Free City"
       ]
      },
      {
       "output_type": "stream",
       "stream": "stdout",
       "text": [
        " http://www.imdb.com/title/tt0373280/?ref_=nm_flmg_act_18\n",
        "The Jury"
       ]
      },
      {
       "output_type": "stream",
       "stream": "stdout",
       "text": [
        " http://www.imdb.com/title/tt0398498/?ref_=nm_flmg_act_19\n",
        "Strip Search"
       ]
      },
      {
       "output_type": "stream",
       "stream": "stdout",
       "text": [
        " http://www.imdb.com/title/tt0376215/?ref_=nm_flmg_act_20\n",
        "Whoopi"
       ]
      },
      {
       "output_type": "stream",
       "stream": "stdout",
       "text": [
        " http://www.imdb.com/title/tt0364902/?ref_=nm_flmg_act_21\n",
        "Saw"
       ]
      },
      {
       "output_type": "stream",
       "stream": "stdout",
       "text": [
        " http://www.imdb.com/title/tt0387564/?ref_=nm_flmg_act_22\n",
        "Law & Order"
       ]
      },
      {
       "output_type": "stream",
       "stream": "stdout",
       "text": [
        " http://www.imdb.com/title/tt0098844/?ref_=nm_flmg_act_23\n",
        "Red Dragon"
       ]
      },
      {
       "output_type": "stream",
       "stream": "stdout",
       "text": [
        " http://www.imdb.com/title/tt0289765/?ref_=nm_flmg_act_24\n",
        "Face"
       ]
      },
      {
       "output_type": "stream",
       "stream": "stdout",
       "text": [
        " http://www.imdb.com/title/tt0293146/?ref_=nm_flmg_act_25\n",
        "Vanilla Sky"
       ]
      },
      {
       "output_type": "stream",
       "stream": "stdout",
       "text": [
        " http://www.imdb.com/title/tt0259711/?ref_=nm_flmg_act_26\n",
        "Spy Game"
       ]
      },
      {
       "output_type": "stream",
       "stream": "stdout",
       "text": [
        " http://www.imdb.com/title/tt0266987/?ref_=nm_flmg_act_27\n",
        "Home Sweet Hoboken"
       ]
      },
      {
       "output_type": "stream",
       "stream": "stdout",
       "text": [
        " http://www.imdb.com/title/tt0204382/?ref_=nm_flmg_act_28\n",
        "A.I. Artificial Intelligence"
       ]
      },
      {
       "output_type": "stream",
       "stream": "stdout",
       "text": [
        " http://www.imdb.com/title/tt0212720/?ref_=nm_flmg_act_29\n",
        "Oz"
       ]
      },
      {
       "output_type": "stream",
       "stream": "stdout",
       "text": [
        " http://www.imdb.com/title/tt0118421/?ref_=nm_flmg_act_30\n",
        "The Family Man"
       ]
      },
      {
       "output_type": "stream",
       "stream": "stdout",
       "text": [
        " http://www.imdb.com/title/tt0218967/?ref_=nm_flmg_act_31\n",
        "Maze"
       ]
      },
      {
       "output_type": "stream",
       "stream": "stdout",
       "text": [
        " http://www.imdb.com/title/tt0246072/?ref_=nm_flmg_act_32\n",
        "Deadline"
       ]
      },
      {
       "output_type": "stream",
       "stream": "stdout",
       "text": [
        " http://www.imdb.com/title/tt0247086/?ref_=nm_flmg_act_33\n",
        "Keeping the Faith"
       ]
      },
      {
       "output_type": "stream",
       "stream": "stdout",
       "text": [
        " http://www.imdb.com/title/tt0171433/?ref_=nm_flmg_act_34\n",
        "Wonderland"
       ]
      },
      {
       "output_type": "stream",
       "stream": "stdout",
       "text": [
        " http://www.imdb.com/title/tt0209557/?ref_=nm_flmg_act_35\n",
        "Man of the Century"
       ]
      },
      {
       "output_type": "stream",
       "stream": "stdout",
       "text": [
        " http://www.imdb.com/title/tt0138537/?ref_=nm_flmg_act_36\n",
        "Fly"
       ]
      },
      {
       "output_type": "stream",
       "stream": "stdout",
       "text": [
        " http://www.imdb.com/title/tt0839819/?ref_=nm_flmg_act_37\n",
        "Rush Hour"
       ]
      },
      {
       "output_type": "stream",
       "stream": "stdout",
       "text": [
        " http://www.imdb.com/title/tt0120812/?ref_=nm_flmg_act_38\n",
        "Kundun"
       ]
      },
      {
       "output_type": "stream",
       "stream": "stdout",
       "text": [
        " http://www.imdb.com/title/tt0119485/?ref_=nm_flmg_act_39\n",
        "Red Corner"
       ]
      },
      {
       "output_type": "stream",
       "stream": "stdout",
       "text": [
        " http://www.imdb.com/title/tt0119994/?ref_=nm_flmg_act_40\n",
        "New York Undercover"
       ]
      },
      {
       "output_type": "stream",
       "stream": "stdout",
       "text": [
        " http://www.imdb.com/title/tt0108876/?ref_=nm_flmg_act_41\n",
        "Welcome to the Dollhouse"
       ]
      },
      {
       "output_type": "stream",
       "stream": "stdout",
       "text": [
        " http://www.imdb.com/title/tt0114906/?ref_=nm_flmg_act_42\n",
        "Pictures of Baby Jane Doe"
       ]
      },
      {
       "output_type": "stream",
       "stream": "stdout",
       "text": [
        " http://www.imdb.com/title/tt0164807/?ref_=nm_flmg_act_43\n"
       ]
      }
     ],
     "prompt_number": 146
    },
    {
     "cell_type": "code",
     "collapsed": false,
     "input": [
      "films_df.head()"
     ],
     "language": "python",
     "metadata": {},
     "outputs": [
      {
       "html": [
        "<div style=\"max-height:1000px;max-width:1500px;overflow:auto;\">\n",
        "<table border=\"1\" class=\"dataframe\">\n",
        "  <thead>\n",
        "    <tr style=\"text-align: right;\">\n",
        "      <th></th>\n",
        "      <th>actor</th>\n",
        "      <th>awards</th>\n",
        "      <th>major</th>\n",
        "      <th>media_info</th>\n",
        "      <th>metacritic</th>\n",
        "      <th>score</th>\n",
        "      <th>title</th>\n",
        "      <th>years</th>\n",
        "    </tr>\n",
        "  </thead>\n",
        "  <tbody>\n",
        "    <tr>\n",
        "      <th>0</th>\n",
        "      <td> Jorge Garcia</td>\n",
        "      <td> No Awards</td>\n",
        "      <td> Major Role</td>\n",
        "      <td>                                          Thriller</td>\n",
        "      <td> No Metacritic</td>\n",
        "      <td> Not yet released</td>\n",
        "      <td>  Running Out of Time</td>\n",
        "      <td> Unable to get Years</td>\n",
        "    </tr>\n",
        "    <tr>\n",
        "      <th>1</th>\n",
        "      <td> Jorge Garcia</td>\n",
        "      <td> No Awards</td>\n",
        "      <td> Major Role</td>\n",
        "      <td>                                             Drama</td>\n",
        "      <td> No Metacritic</td>\n",
        "      <td> Not yet released</td>\n",
        "      <td> When We Were Pirates</td>\n",
        "      <td> Unable to get Years</td>\n",
        "    </tr>\n",
        "    <tr>\n",
        "      <th>2</th>\n",
        "      <td> Jorge Garcia</td>\n",
        "      <td> No Awards</td>\n",
        "      <td> Major Role</td>\n",
        "      <td> 80 min                \u00a0-\u00a0Animation            ...</td>\n",
        "      <td> No Metacritic</td>\n",
        "      <td> Not yet released</td>\n",
        "      <td>             Rock Dog</td>\n",
        "      <td>              (2015)</td>\n",
        "    </tr>\n",
        "    <tr>\n",
        "      <th>3</th>\n",
        "      <td> Jorge Garcia</td>\n",
        "      <td> No Awards</td>\n",
        "      <td> Major Role</td>\n",
        "      <td> -\u00a0Comedy                \u00a0-\u00a0             2015(USA)</td>\n",
        "      <td> No Metacritic</td>\n",
        "      <td> Not yet released</td>\n",
        "      <td>            Get a Job</td>\n",
        "      <td>              (2015)</td>\n",
        "    </tr>\n",
        "    <tr>\n",
        "      <th>4</th>\n",
        "      <td> Jorge Garcia</td>\n",
        "      <td> No Awards</td>\n",
        "      <td> Major Role</td>\n",
        "      <td> 24 min                \u00a0-\u00a0Short|Crime|Drama    ...</td>\n",
        "      <td> No Metacritic</td>\n",
        "      <td> Not yet released</td>\n",
        "      <td>                Spade</td>\n",
        "      <td>              (2014)</td>\n",
        "    </tr>\n",
        "  </tbody>\n",
        "</table>\n",
        "</div>"
       ],
       "metadata": {},
       "output_type": "pyout",
       "prompt_number": 147,
       "text": [
        "          actor     awards       major  \\\n",
        "0  Jorge Garcia  No Awards  Major Role   \n",
        "1  Jorge Garcia  No Awards  Major Role   \n",
        "2  Jorge Garcia  No Awards  Major Role   \n",
        "3  Jorge Garcia  No Awards  Major Role   \n",
        "4  Jorge Garcia  No Awards  Major Role   \n",
        "\n",
        "                                          media_info     metacritic  \\\n",
        "0                                           Thriller  No Metacritic   \n",
        "1                                              Drama  No Metacritic   \n",
        "2  80 min                \u00a0-\u00a0Animation            ...  No Metacritic   \n",
        "3  -\u00a0Comedy                \u00a0-\u00a0             2015(USA)  No Metacritic   \n",
        "4  24 min                \u00a0-\u00a0Short|Crime|Drama    ...  No Metacritic   \n",
        "\n",
        "              score                 title                years  \n",
        "0  Not yet released   Running Out of Time  Unable to get Years  \n",
        "1  Not yet released  When We Were Pirates  Unable to get Years  \n",
        "2  Not yet released              Rock Dog               (2015)  \n",
        "3  Not yet released             Get a Job               (2015)  \n",
        "4  Not yet released                 Spade               (2014)  "
       ]
      }
     ],
     "prompt_number": 147
    },
    {
     "cell_type": "code",
     "collapsed": false,
     "input": [
      "films_df.to_csv('./raw.csv', encoding='UTF-8', index=False)"
     ],
     "language": "python",
     "metadata": {},
     "outputs": [],
     "prompt_number": 152
    },
    {
     "cell_type": "code",
     "collapsed": false,
     "input": [
      "test_import = pd.read_csv('./data/raw.csv')"
     ],
     "language": "python",
     "metadata": {},
     "outputs": [],
     "prompt_number": 153
    }
   ],
   "metadata": {}
  }
 ]
}