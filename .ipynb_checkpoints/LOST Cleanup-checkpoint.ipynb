{
 "metadata": {
  "name": "",
  "signature": "sha256:0db63ab551e307ada07d250af0bc3518b0f0c59f4e369cb1269f52aeb07f053f"
 },
 "nbformat": 3,
 "nbformat_minor": 0,
 "worksheets": [
  {
   "cells": [
    {
     "cell_type": "code",
     "collapsed": false,
     "input": [
      "import pandas as pd\n",
      "import numpy as np\n"
     ],
     "language": "python",
     "metadata": {},
     "outputs": []
    },
    {
     "cell_type": "code",
     "collapsed": false,
     "input": [
      "test_import = pd.read_csv('./data/raw.csv')"
     ],
     "language": "python",
     "metadata": {},
     "outputs": [],
     "prompt_number": 484
    },
    {
     "cell_type": "code",
     "collapsed": false,
     "input": [
      "test_import['start_year'] = test_import['years'].str.extract('\\((\\d+).*')\n",
      "#filtered['end_year'] = filtered['years'].str.extract('\\(\\d+\\W(\\d*\\s*)\\)')\n",
      "\n",
      "test_import['info'] = test_import['media_info'].str.extract('(^[^-]*)-')\n",
      "test_import['type'] = test_import['info'].map(lambda x: 'Movie' if re.search('(\\d+)', str(x)) else str(x).decode('ascii', 'ignore').strip(' '))\n",
      "test_import['type'] = test_import['type'].map(lambda x: 'Other/Unknown' if x not in ['Movie', 'TV Movie', 'TV Series', 'Video Game'] else x)"
     ],
     "language": "python",
     "metadata": {},
     "outputs": [],
     "prompt_number": 485
    },
    {
     "cell_type": "code",
     "collapsed": false,
     "input": [
      "filtered = test_import[(test_import['score'] != 'Not yet released') &\n",
      "            (test_import['score'] != 'Unable to get Score') &\n",
      "            (test_import['major'] == 'Major Role')]\n",
      "filtered = filtered[['actor','title','score','start_year','type']]"
     ],
     "language": "python",
     "metadata": {},
     "outputs": [],
     "prompt_number": 489
    },
    {
     "cell_type": "code",
     "collapsed": false,
     "input": [
      "filtered.to_csv('./data/LOST_clean.csv',index=0)"
     ],
     "language": "python",
     "metadata": {},
     "outputs": []
    },
    {
     "cell_type": "code",
     "collapsed": false,
     "input": [],
     "language": "python",
     "metadata": {},
     "outputs": []
    }
   ],
   "metadata": {}
  }
 ]
}